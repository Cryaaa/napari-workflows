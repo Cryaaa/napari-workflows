{
 "cells": [
  {
   "cell_type": "code",
   "execution_count": 1,
   "id": "0a1f913f",
   "metadata": {},
   "outputs": [
    {
     "name": "stderr",
     "output_type": "stream",
     "text": [
      "C:\\Users\\ryans\\anaconda3\\envs\\np_workflows_v1\\lib\\site-packages\\napari_tools_menu\\__init__.py:165: FutureWarning: Public access to Window.qt_viewer is deprecated and will be removed in\n",
      "v0.5.0. It is considered an \"implementation detail\" of the napari\n",
      "application, not part of the napari viewer model. If your use case\n",
      "requires access to qt_viewer, please open an issue to discuss.\n",
      "  self.tools_menu = ToolsMenu(self, self.qt_viewer.viewer)\n"
     ]
    },
    {
     "data": {
      "text/plain": [
       "<Image layer 'blobs' at 0x166cd3fc2b0>"
      ]
     },
     "execution_count": 1,
     "metadata": {},
     "output_type": "execute_result"
    }
   ],
   "source": [
    "import napari\n",
    "import napari_workflows as nw\n",
    "from skimage.io import imread\n",
    "file_name = r'C:/Users/ryans/Desktop/blobs.tif'\n",
    "blobs = imread(filename)\n",
    "\n",
    "viewer = napari.Viewer()\n",
    "viewer.add_image(blobs)"
   ]
  },
  {
   "cell_type": "code",
   "execution_count": 3,
   "id": "b17fb3bf",
   "metadata": {},
   "outputs": [],
   "source": [
    "wf_manager = nw.WorkflowManager.install(viewer)"
   ]
  },
  {
   "cell_type": "code",
   "execution_count": 4,
   "id": "cd3a11c1",
   "metadata": {},
   "outputs": [
    {
     "name": "stdout",
     "output_type": "stream",
     "text": [
      "Workflow:\n",
      "Result of Gaussian (scikit-image, nsbatwm) <- (<function gaussian_blur at 0x00000166FE1615A0>, 'blobs', 5.0)\n",
      "Result of Threshold (Ridler et al 1978, scikit-image, nsbatwm) <- (<function threshold_mean at 0x00000166FE1611B0>, 'Result of Gaussian (scikit-image, nsbatwm)')\n",
      "\n"
     ]
    }
   ],
   "source": [
    "wf = wf_manager.workflow\n",
    "print(wf)"
   ]
  },
  {
   "cell_type": "code",
   "execution_count": 5,
   "id": "8f43ff91",
   "metadata": {},
   "outputs": [],
   "source": [
    "from napari_workflows._io_yaml_v1 import load_workflow, save_workflow\n",
    "        \n",
    "filename = 'workflow from napari.yaml'\n",
    "\n",
    "save_workflow(filename, wf)"
   ]
  },
  {
   "cell_type": "code",
   "execution_count": 7,
   "id": "c539af94",
   "metadata": {},
   "outputs": [
    {
     "name": "stdout",
     "output_type": "stream",
     "text": [
      "Workflow:\n",
      "Result of Gaussian (scikit-image, nsbatwm) <- (<function gaussian_blur at 0x00000166FE1615A0>, 'blobs', 5.0)\n",
      "Result of Threshold (Ridler et al 1978, scikit-image, nsbatwm) <- (<function threshold_mean at 0x00000166FE1611B0>, 'Result of Gaussian (scikit-image, nsbatwm)')\n",
      "\n"
     ]
    }
   ],
   "source": [
    "loaded_wf = load_workflow(filename)\n",
    "print(loaded_wf)"
   ]
  },
  {
   "cell_type": "code",
   "execution_count": 10,
   "id": "aaa60abc",
   "metadata": {},
   "outputs": [
    {
     "name": "stderr",
     "output_type": "stream",
     "text": [
      "C:\\Users\\ryans\\anaconda3\\envs\\np_workflows_v1\\lib\\site-packages\\napari_tools_menu\\__init__.py:165: FutureWarning: Public access to Window.qt_viewer is deprecated and will be removed in\n",
      "v0.5.0. It is considered an \"implementation detail\" of the napari\n",
      "application, not part of the napari viewer model. If your use case\n",
      "requires access to qt_viewer, please open an issue to discuss.\n",
      "  self.tools_menu = ToolsMenu(self, self.qt_viewer.viewer)\n"
     ]
    }
   ],
   "source": [
    "import inspect\n",
    "import magicgui\n",
    "from functools import partial\n",
    "from napari_tools_menu import make_gui\n",
    "\n",
    "viewer2 = napari.Viewer()\n",
    "\n",
    "from inspect import Signature, signature\n",
    "from functools import partial\n",
    "\n",
    "def signature_w_kwargs_from_function(function, arg_vals: list) -> Signature:\n",
    "    \n",
    "    # getting the keywords corresponding to the values\n",
    "    keyword_list = list(signature(function).parameters.keys())\n",
    "\n",
    "    # creating the kwargs dict\n",
    "    kw_dict = {}\n",
    "    for kw, val in zip(keyword_list, arg_vals):\n",
    "        kw_dict[kw] = val\n",
    "    kw_dict.pop('image') # we are making an assumption that the input will aways be this\n",
    "    \n",
    "    sig = signature(partial(function, **kw_dict))\n",
    "    \n",
    "    return sig\n",
    "\n",
    "\n",
    "\n",
    "\n",
    "for task in loaded_wf._tasks.keys():\n",
    "    func = loaded_wf._tasks[task][0]  # extract function from workflow\n",
    "    args = loaded_wf._tasks[task][1:] # extract args from wf\n",
    "    \n",
    "    signat = signature_w_kwargs_from_function(func,args)\n",
    "    func.__signature__ = signat\n",
    "    \n",
    "    widget = make_gui(func, viewer2)\n",
    "    \n",
    "    viewer2.window.add_dock_widget(widget)"
   ]
  },
  {
   "cell_type": "code",
   "execution_count": 11,
   "id": "d70f5816",
   "metadata": {},
   "outputs": [
    {
     "data": {
      "text/plain": [
       "['blobs']"
      ]
     },
     "execution_count": 11,
     "metadata": {},
     "output_type": "execute_result"
    }
   ],
   "source": [
    "roots = loaded_wf.roots()\n",
    "roots"
   ]
  },
  {
   "cell_type": "code",
   "execution_count": 12,
   "id": "5c31e9bb",
   "metadata": {},
   "outputs": [
    {
     "data": {
      "text/plain": [
       "dict_items([('Result of Gaussian (scikit-image, nsbatwm)', (<function gaussian_blur at 0x00000166FE1615A0>, 'blobs', 5.0)), ('Result of Threshold (Ridler et al 1978, scikit-image, nsbatwm)', (<function threshold_mean at 0x00000166FE1611B0>, 'Result of Gaussian (scikit-image, nsbatwm)'))])"
      ]
     },
     "execution_count": 12,
     "metadata": {},
     "output_type": "execute_result"
    }
   ],
   "source": [
    "loaded_wf._tasks.items()"
   ]
  },
  {
   "cell_type": "code",
   "execution_count": 14,
   "id": "9790cf4a",
   "metadata": {},
   "outputs": [
    {
     "data": {
      "text/plain": [
       "['Result of Gaussian (scikit-image, nsbatwm)']"
      ]
     },
     "execution_count": 14,
     "metadata": {},
     "output_type": "execute_result"
    }
   ],
   "source": [
    "def wf_steps_with_root_as_input(workflow):\n",
    "    roots = loaded_wf.roots()\n",
    "    wf_step_with_rootinput = []\n",
    "    for result, task in workflow._tasks.items():\n",
    "            for source in task:\n",
    "                if isinstance(source, str):\n",
    "                    if source in roots:\n",
    "                        wf_step_with_rootinput.append(result)\n",
    "    return wf_step_with_rootinput\n",
    "\n",
    "wf_steps_with_root_as_input(loaded_wf)             "
   ]
  },
  {
   "cell_type": "code",
   "execution_count": null,
   "id": "962afa54",
   "metadata": {},
   "outputs": [],
   "source": []
  }
 ],
 "metadata": {
  "kernelspec": {
   "display_name": "Python 3 (ipykernel)",
   "language": "python",
   "name": "python3"
  },
  "language_info": {
   "codemirror_mode": {
    "name": "ipython",
    "version": 3
   },
   "file_extension": ".py",
   "mimetype": "text/x-python",
   "name": "python",
   "nbconvert_exporter": "python",
   "pygments_lexer": "ipython3",
   "version": "3.10.2"
  }
 },
 "nbformat": 4,
 "nbformat_minor": 5
}
