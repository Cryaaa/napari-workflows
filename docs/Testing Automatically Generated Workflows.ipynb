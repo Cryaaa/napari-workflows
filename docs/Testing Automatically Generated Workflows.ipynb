{
 "cells": [
  {
   "cell_type": "code",
   "execution_count": 2,
   "id": "0a1f913f",
   "metadata": {},
   "outputs": [
    {
     "name": "stderr",
     "output_type": "stream",
     "text": [
      "C:\\Users\\ryans\\anaconda3\\envs\\np_workflows_v1\\lib\\site-packages\\napari_tools_menu\\__init__.py:165: FutureWarning: Public access to Window.qt_viewer is deprecated and will be removed in\n",
      "v0.5.0. It is considered an \"implementation detail\" of the napari\n",
      "application, not part of the napari viewer model. If your use case\n",
      "requires access to qt_viewer, please open an issue to discuss.\n",
      "  self.tools_menu = ToolsMenu(self, self.qt_viewer.viewer)\n",
      "2022-02-04 15:02:53.859 | DEBUG    | napari_pyclesperanto_assistant._gui._category_widget:_show_result:219 - creating new layer for id: 2213226529264\n",
      "2022-02-04 15:02:56.620 | DEBUG    | napari_pyclesperanto_assistant._gui._category_widget:_show_result:219 - creating new layer for id: 2213305003472\n",
      "2022-02-04 15:03:10.022 | DEBUG    | napari_pyclesperanto_assistant._gui._category_widget:_show_result:213 - updating existing layer: Result of Threshold (Li et al 1993, scikit-image, nsbatwm), with id: 2213305003472\n",
      "2022-02-04 15:03:12.275 | DEBUG    | napari_pyclesperanto_assistant._gui._category_widget:_show_result:213 - updating existing layer: Result of Threshold (Otsu et al 1979, scikit-image, nsbatwm), with id: 2213305003472\n",
      "2022-02-04 15:03:14.480 | DEBUG    | napari_pyclesperanto_assistant._gui._category_widget:_show_result:213 - updating existing layer: Result of Threshold (Li et al 1993, scikit-image, nsbatwm), with id: 2213305003472\n"
     ]
    }
   ],
   "source": [
    "import napari\n",
    "import napari_workflows as nw\n",
    "\n",
    "viewer = napari.Viewer()"
   ]
  },
  {
   "cell_type": "code",
   "execution_count": 3,
   "id": "b17fb3bf",
   "metadata": {},
   "outputs": [],
   "source": [
    "wf_manager = nw.WorkflowManager.install(viewer)"
   ]
  },
  {
   "cell_type": "code",
   "execution_count": 6,
   "id": "cd3a11c1",
   "metadata": {},
   "outputs": [
    {
     "name": "stdout",
     "output_type": "stream",
     "text": [
      "Workflow:\n",
      "Result of Gaussian (scikit-image, nsbatwm) <- (<function gaussian_blur at 0x000002034D06B010>, 'blobs', 6.0)\n",
      "Result of Threshold (Triangle method, Zack et al 1977, scikit-image, nsbatwm) <- (<function threshold_triangle at 0x000002034D06AE60>, 'Result of Gaussian (scikit-image, nsbatwm)')\n",
      "\n"
     ]
    }
   ],
   "source": [
    "wf = wf_manager.workflow\n",
    "print(wf)"
   ]
  },
  {
   "cell_type": "code",
   "execution_count": 8,
   "id": "8f43ff91",
   "metadata": {},
   "outputs": [
    {
     "ename": "ModuleNotFoundError",
     "evalue": "No module named 'napari_workflows._io_yaml_v1'",
     "output_type": "error",
     "traceback": [
      "\u001b[1;31m---------------------------------------------------------------------------\u001b[0m",
      "\u001b[1;31mModuleNotFoundError\u001b[0m                       Traceback (most recent call last)",
      "Input \u001b[1;32mIn [8]\u001b[0m, in \u001b[0;36m<module>\u001b[1;34m\u001b[0m\n\u001b[1;32m----> 1\u001b[0m \u001b[38;5;28;01mfrom\u001b[39;00m \u001b[38;5;21;01mnapari_workflows\u001b[39;00m\u001b[38;5;21;01m.\u001b[39;00m\u001b[38;5;21;01m_io_yaml_v1\u001b[39;00m \u001b[38;5;28;01mimport\u001b[39;00m save_workflow\n\u001b[0;32m      2\u001b[0m filename \u001b[38;5;241m=\u001b[39m \u001b[38;5;124m'\u001b[39m\u001b[38;5;124mworkflow from napari.yaml\u001b[39m\u001b[38;5;124m'\u001b[39m\n\u001b[0;32m      4\u001b[0m save_workflow(filename, wf)\n",
      "\u001b[1;31mModuleNotFoundError\u001b[0m: No module named 'napari_workflows._io_yaml_v1'"
     ]
    }
   ],
   "source": [
    "def save_workflow(filename:str, workflow:Workflow):\n",
    "    \"\"\"Save a workflow to a file on disk.\n",
    "    Parameters\n",
    "    ----------\n",
    "    filename: str\n",
    "    workflow: Workflow\n",
    "    \"\"\"\n",
    "    # Filter out workflow steps that do not represent a processing step\n",
    "    workflow_to_save = Workflow()\n",
    "    for key, value in workflow._tasks.items():\n",
    "        if not isinstance(value[0], np.ndarray):\n",
    "            workflow_to_save.set(key, value)\n",
    "    \n",
    "    # Save the remaining steps to disk\n",
    "    from yaml import dump\n",
    "    with open(filename, 'w') as stream:\n",
    "        dump(workflow_to_save,stream)\n",
    "        \n",
    "filename = 'workflow from napari.yaml'\n",
    "\n",
    "save_workflow(filename, wf)"
   ]
  },
  {
   "cell_type": "code",
   "execution_count": null,
   "id": "c539af94",
   "metadata": {},
   "outputs": [],
   "source": []
  }
 ],
 "metadata": {
  "kernelspec": {
   "display_name": "Python 3 (ipykernel)",
   "language": "python",
   "name": "python3"
  },
  "language_info": {
   "codemirror_mode": {
    "name": "ipython",
    "version": 3
   },
   "file_extension": ".py",
   "mimetype": "text/x-python",
   "name": "python",
   "nbconvert_exporter": "python",
   "pygments_lexer": "ipython3",
   "version": "3.10.2"
  }
 },
 "nbformat": 4,
 "nbformat_minor": 5
}
