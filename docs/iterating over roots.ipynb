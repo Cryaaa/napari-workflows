{
 "cells": [
  {
   "cell_type": "code",
   "execution_count": null,
   "id": "011e0fd4",
   "metadata": {},
   "outputs": [],
   "source": [
    "\n",
    "for node in roots: \n",
    "    print('Checking', node) \n",
    "    followers = workflow.followers_of(node) \n",
    "    \n",
    "    for follower in followers: \n",
    "        G.add_edge(node, follower) \n",
    "        nodes.append(follower) \n"
   ]
  }
 ],
 "metadata": {
  "kernelspec": {
   "display_name": "Python 3 (ipykernel)",
   "language": "python",
   "name": "python3"
  },
  "language_info": {
   "codemirror_mode": {
    "name": "ipython",
    "version": 3
   },
   "file_extension": ".py",
   "mimetype": "text/x-python",
   "name": "python",
   "nbconvert_exporter": "python",
   "pygments_lexer": "ipython3",
   "version": "3.10.2"
  }
 },
 "nbformat": 4,
 "nbformat_minor": 5
}
