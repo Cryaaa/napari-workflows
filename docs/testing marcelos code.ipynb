{
 "cells": [
  {
   "cell_type": "code",
   "execution_count": 1,
   "id": "7fba9d06",
   "metadata": {},
   "outputs": [
    {
     "name": "stderr",
     "output_type": "stream",
     "text": [
      "C:\\Users\\ryans\\anaconda3\\envs\\np_workflows_v1\\lib\\site-packages\\napari_tools_menu\\__init__.py:165: FutureWarning: Public access to Window.qt_viewer is deprecated and will be removed in\n",
      "v0.5.0. It is considered an \"implementation detail\" of the napari\n",
      "application, not part of the napari viewer model. If your use case\n",
      "requires access to qt_viewer, please open an issue to discuss.\n",
      "  self.tools_menu = ToolsMenu(self, self.qt_viewer.viewer)\n"
     ]
    },
    {
     "name": "stdout",
     "output_type": "stream",
     "text": [
      "Started\n",
      "{'label_image': {'choices': [<Labels layer 'opening' at 0x1a59450c490>]}}\n",
      "{'label_image': {'choices': [<Labels layer 'opening' at 0x1a59450c490>]}}\n",
      "Started\n"
     ]
    },
    {
     "data": {
      "text/plain": [
       "<napari._qt.widgets.qt_viewer_dock_widget.QtViewerDockWidget at 0x1a5c45db6d0>"
      ]
     },
     "execution_count": 1,
     "metadata": {},
     "output_type": "execute_result"
    },
    {
     "name": "stdout",
     "output_type": "stream",
     "text": [
      "opening [[1 1 1 ... 0 0 0]\n",
      " [1 1 1 ... 0 0 0]\n",
      " [1 1 1 ... 0 0 0]\n",
      " ...\n",
      " [0 0 0 ... 0 0 0]\n",
      " [0 0 0 ... 0 0 0]\n",
      " [0 0 0 ... 0 0 0]]\n",
      "Did I get the \"opening\" layer?  True\n",
      "opening [[1 1 1 ... 0 0 0]\n",
      " [1 1 1 ... 0 0 0]\n",
      " [1 1 1 ... 0 0 0]\n",
      " ...\n",
      " [0 0 0 ... 0 0 0]\n",
      " [0 0 0 ... 0 0 0]\n",
      " [0 0 0 ... 0 0 0]]\n",
      "Did I get the \"opening\" layer?  True\n",
      "otsu [[1 1 1 ... 0 0 1]\n",
      " [1 1 1 ... 0 0 1]\n",
      " [1 1 1 ... 0 0 1]\n",
      " ...\n",
      " [1 0 1 ... 0 0 1]\n",
      " [0 0 0 ... 1 0 0]\n",
      " [0 0 0 ... 1 0 0]]\n",
      "Did I get the \"opening\" layer?  False\n",
      "otsu [[1 1 1 ... 0 0 1]\n",
      " [1 1 1 ... 0 0 1]\n",
      " [1 1 1 ... 0 0 1]\n",
      " ...\n",
      " [1 0 1 ... 0 0 1]\n",
      " [0 0 0 ... 1 0 0]\n",
      " [0 0 0 ... 1 0 0]]\n",
      "Did I get the \"opening\" layer?  False\n"
     ]
    }
   ],
   "source": [
    "import napari\n",
    "import numpy as np\n",
    "from napari.types import LabelsData\n",
    "from magicgui.widgets import FunctionGui\n",
    "\n",
    "def my_function(label_image):\n",
    "    global label_image2\n",
    "    print(label_image.name, label_image.data)\n",
    "    print(\"Did I get the \\\"opening\\\" layer? \", np.array_equal(label_image.data,label_image2))\n",
    "\n",
    "class MyGui(FunctionGui):\n",
    "    def __init__(self,param_options):\n",
    "        super().__init__(\n",
    "          my_function,\n",
    "          call_button=False,\n",
    "          layout='vertical',\n",
    "          auto_call=True,\n",
    "          param_options=param_options\n",
    "        )\n",
    "        print(\"Started\")\n",
    "        # do whatever other initialization you want here\n",
    "\n",
    "# Create layers\n",
    "image = np.random.rand(64, 64)*255\n",
    "viewer = napari.view_image(image, name=\"My Image\")\n",
    "from skimage.filters import threshold_otsu\n",
    "from skimage.morphology import binary_opening\n",
    "# add label layers\n",
    "thresh = threshold_otsu(image)\n",
    "label_image1 = image>thresh\n",
    "label_image2 = binary_opening(label_image1)\n",
    "labels_layer1 = viewer.add_labels(label_image1, name='otsu')\n",
    "labels_layer2 = viewer.add_labels(label_image2, name='opening')\n",
    "\n",
    "layers_list = [labels_layer2]\n",
    "\n",
    "widget1 = MyGui(param_options={'label_image' : {'choices' : layers_list}})\n",
    "\n",
    "print(widget1._param_options)\n",
    "\n",
    "layers_list = [labels_layer1, labels_layer2]\n",
    "\n",
    "# widget1.label_image.choices = layers_list\n",
    "print(widget1._param_options)\n",
    "widget1.__init__({'label_image' : {'choices' : layers_list}})\n",
    "\n",
    "viewer.window.add_dock_widget(widget1)"
   ]
  }
 ],
 "metadata": {
  "kernelspec": {
   "display_name": "Python 3 (ipykernel)",
   "language": "python",
   "name": "python3"
  },
  "language_info": {
   "codemirror_mode": {
    "name": "ipython",
    "version": 3
   },
   "file_extension": ".py",
   "mimetype": "text/x-python",
   "name": "python",
   "nbconvert_exporter": "python",
   "pygments_lexer": "ipython3",
   "version": "3.10.2"
  }
 },
 "nbformat": 4,
 "nbformat_minor": 5
}
