{
 "cells": [
  {
   "cell_type": "code",
   "execution_count": 3,
   "id": "0a1f913f",
   "metadata": {},
   "outputs": [
    {
     "name": "stderr",
     "output_type": "stream",
     "text": [
      "C:\\Users\\ryans\\anaconda3\\envs\\np_workflows_v1\\lib\\site-packages\\napari_tools_menu\\__init__.py:165: FutureWarning: Public access to Window.qt_viewer is deprecated and will be removed in\n",
      "v0.5.0. It is considered an \"implementation detail\" of the napari\n",
      "application, not part of the napari viewer model. If your use case\n",
      "requires access to qt_viewer, please open an issue to discuss.\n",
      "  self.tools_menu = ToolsMenu(self, self.qt_viewer.viewer)\n"
     ]
    },
    {
     "data": {
      "text/plain": [
       "<Image layer 'blobs' at 0x2f0271fbeb0>"
      ]
     },
     "execution_count": 3,
     "metadata": {},
     "output_type": "execute_result"
    }
   ],
   "source": [
    "import napari\n",
    "import napari_workflows as nw\n",
    "from skimage.io import imread\n",
    "file_name = r'C:/Users/ryans/Desktop/blobs.tif'\n",
    "blobs = imread(file_name)\n",
    "\n",
    "viewer = napari.Viewer()\n",
    "viewer.add_image(blobs)"
   ]
  },
  {
   "cell_type": "code",
   "execution_count": 5,
   "id": "b17fb3bf",
   "metadata": {},
   "outputs": [],
   "source": [
    "wf_manager = nw.WorkflowManager.install(viewer)"
   ]
  },
  {
   "cell_type": "code",
   "execution_count": 6,
   "id": "cd3a11c1",
   "metadata": {},
   "outputs": [
    {
     "name": "stdout",
     "output_type": "stream",
     "text": [
      "Workflow:\n",
      "Result of Gaussian (scikit-image, nsbatwm) <- (<function gaussian_blur at 0x000002F03C99A560>, 'blobs', 4.0)\n",
      "Result of Percentile (scipy, nsbatwm) <- (<function percentile_filter at 0x000002F03C99A8C0>, 'Result of Gaussian (scikit-image, nsbatwm)', 2.0, 4.0)\n",
      "Result of Threshold (Li et al 1993, scikit-image, nsbatwm) <- (<function threshold_li at 0x000002F03C99A050>, 'Result of Percentile (scipy, nsbatwm)')\n",
      "Result of Expand labels (scikit-image, nsbatwm) <- (<function expand_labels at 0x000002F03C99B490>, 'Result of Threshold (Li et al 1993, scikit-image, nsbatwm)', 4.0)\n",
      "Result of Connected component labeling (scikit-image, nsbatwm) <- (<function connected_component_labeling at 0x000002F03C99B1C0>, 'Result of Expand labels (scikit-image, nsbatwm)', False)\n",
      "\n"
     ]
    }
   ],
   "source": [
    "wf = wf_manager.workflow\n",
    "print(wf)"
   ]
  },
  {
   "cell_type": "code",
   "execution_count": 7,
   "id": "6a7d7813",
   "metadata": {},
   "outputs": [],
   "source": [
    "from napari_workflows._io_yaml_v1 import load_workflow, save_workflow\n",
    "        \n",
    "filename = 'workflow from napari.yaml'\n",
    "\n",
    "save_workflow(filename, wf)"
   ]
  },
  {
   "cell_type": "code",
   "execution_count": null,
   "id": "364bdd10",
   "metadata": {},
   "outputs": [],
   "source": []
  }
 ],
 "metadata": {
  "kernelspec": {
   "display_name": "Python 3 (ipykernel)",
   "language": "python",
   "name": "python3"
  },
  "language_info": {
   "codemirror_mode": {
    "name": "ipython",
    "version": 3
   },
   "file_extension": ".py",
   "mimetype": "text/x-python",
   "name": "python",
   "nbconvert_exporter": "python",
   "pygments_lexer": "ipython3",
   "version": "3.10.2"
  }
 },
 "nbformat": 4,
 "nbformat_minor": 5
}
