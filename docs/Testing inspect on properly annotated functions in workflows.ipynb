{
 "cells": [
  {
   "cell_type": "code",
   "execution_count": 2,
   "id": "ab71c774",
   "metadata": {},
   "outputs": [
    {
     "name": "stdout",
     "output_type": "stream",
     "text": [
      "(image: napari.types.ImageData, sigma: float = 1, viewer: napari.viewer.Viewer = None) -> napari.types.ImageData\n"
     ]
    }
   ],
   "source": [
    "import yaml\n",
    "import inspect\n",
    "import napari_workflows as nw\n",
    "from napari.types import ImageData\n",
    "from napari_segment_blobs_and_things_with_membranes import gaussian_blur\n",
    "from skimage.io import imread\n",
    "\n",
    "\n",
    "w = nw.Workflow()\n",
    "w.set('denoised',gaussian_blur,'input')\n",
    "w.set('input',imread(\"C:/Users/ryans/Desktop/blobs.tif\"))\n",
    "\n",
    "function = w._tasks['denoised'][0]    \n",
    "args = [None] + list(w._tasks['denoised'][2:])\n",
    "\n",
    "sig = inspect.signature(function)\n",
    "print(sig)"
   ]
  },
  {
   "cell_type": "code",
   "execution_count": 9,
   "id": "2229cfe3",
   "metadata": {},
   "outputs": [
    {
     "data": {
      "text/plain": [
       "<BoundArguments (sigma=4)>"
      ]
     },
     "execution_count": 9,
     "metadata": {},
     "output_type": "execute_result"
    }
   ],
   "source": [
    "kwargs = {'sigma':4}\n",
    "bound = sig.bind_partial(**kwargs)\n",
    "bound"
   ]
  },
  {
   "cell_type": "code",
   "execution_count": 4,
   "id": "c1db94b0",
   "metadata": {},
   "outputs": [],
   "source": [
    "# code from robert\n",
    "from inspect import Parameter, Signature, signature\n",
    "def _generate_signature_for_workflow_step(func, workflow_parameters) -> Signature:\n",
    "    \"\"\"Create an inspect.Signature object representing a cle Category.\n",
    "    The output of this function can be used to set function.__signature__ so that\n",
    "    magicgui can convert it into the appropriate widget.\n",
    "    \"\"\"\n",
    "    \n",
    "    \n",
    "    k = Parameter.KEYWORD_ONLY\n",
    "\n",
    "    # add inputs (we name them inputN ...)\n",
    "    params = [\n",
    "        Parameter(f\"input{n}\", k, annotation=t) for n, t in enumerate(category.inputs)\n",
    "    ]\n",
    "    # Add valid operations choices (will create the combo box)\n",
    "    from .._categories import operations_in_menu\n",
    "    choices = list(operations_in_menu(category, search_string))\n",
    "    #print(\"choices:\", choices)\n",
    "    op_type = Annotated[str, {\"choices\": choices, \"label\": \"Operation\"}]\n",
    "    default_op = category.default_op\n",
    "    if not any(default_op == op for op in choices):\n",
    "        #print(\"Default-operation is not in list!\")\n",
    "        default_op = None\n",
    "\n",
    "    if default_op is None:\n",
    "        params.append(\n",
    "            Parameter(OP_NAME_PARAM, k, annotation=op_type)\n",
    "        )\n",
    "    else:\n",
    "        params.append(\n",
    "            Parameter(OP_NAME_PARAM, k, annotation=op_type, default=default_op)\n",
    "        )\n",
    "    # add the args that will be passed to the cle operation.\n",
    "    for i, (name, type_, default) in enumerate(category_args):\n",
    "        if i < len(category.default_values):\n",
    "            default = category.default_values[i]\n",
    "        params.append(Parameter(name, k, annotation=type_, default=default))\n",
    "\n",
    "    # add a viewer.  This allows our widget to know if it's in a viewer\n",
    "    params.append(\n",
    "        Parameter(VIEWER_PARAM, k, annotation=\"napari.viewer.Viewer\", default=None)\n",
    "    )\n",
    "    result = Signature(params)\n",
    "    #print(\"Signature\", result)\n",
    "    return result"
   ]
  }
 ],
 "metadata": {
  "kernelspec": {
   "display_name": "Python 3 (ipykernel)",
   "language": "python",
   "name": "python3"
  },
  "language_info": {
   "codemirror_mode": {
    "name": "ipython",
    "version": 3
   },
   "file_extension": ".py",
   "mimetype": "text/x-python",
   "name": "python",
   "nbconvert_exporter": "python",
   "pygments_lexer": "ipython3",
   "version": "3.10.2"
  }
 },
 "nbformat": 4,
 "nbformat_minor": 5
}
