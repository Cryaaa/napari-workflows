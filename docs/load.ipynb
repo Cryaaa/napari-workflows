{
 "cells": [
  {
   "cell_type": "markdown",
   "id": "c1dad322-5f14-4d25-9dee-9e9f098fc96a",
   "metadata": {},
   "source": [
    "# Loading workflows"
   ]
  },
  {
   "cell_type": "code",
   "execution_count": 1,
   "id": "f4c98c95",
   "metadata": {},
   "outputs": [],
   "source": [
    "from napari_workflows import Workflow\n",
    "from napari_workflows._io_yaml_v1 import load_workflow\n",
    "import numpy as np"
   ]
  },
  {
   "cell_type": "markdown",
   "id": "d84ff1be-acfc-4766-b5d5-01d445aaa0f3",
   "metadata": {},
   "source": [
    "For loading a workflow, we only need to know its filename."
   ]
  },
  {
   "cell_type": "code",
   "execution_count": 2,
   "id": "24006ceb",
   "metadata": {},
   "outputs": [
    {
     "name": "stdout",
     "output_type": "stream",
     "text": [
      "Workflow:\n",
      "denoised <- (<function gaussian at 0x7fed6d3203a0>, 'input', 2, None, 'nearest', 0, None, False, 4.0)\n",
      "\n"
     ]
    }
   ],
   "source": [
    "filename = \"test.yaml\"\n",
    "\n",
    "new_w = load_workflow(filename)\n",
    "print(new_w)"
   ]
  },
  {
   "cell_type": "markdown",
   "id": "143fe5d5-124c-4cd4-8daf-2eac7cbaba6c",
   "metadata": {},
   "source": [
    "Before we can execute the workflow, we need to set the input image."
   ]
  },
  {
   "cell_type": "code",
   "execution_count": 3,
   "id": "2242afbe-e852-41b4-b45e-32ca7b66cf26",
   "metadata": {},
   "outputs": [],
   "source": [
    "new_w.set(\"input\", np.random.random((5,5)))"
   ]
  },
  {
   "cell_type": "code",
   "execution_count": 4,
   "id": "7a5400e4",
   "metadata": {},
   "outputs": [
    {
     "name": "stderr",
     "output_type": "stream",
     "text": [
      "/Users/haase/opt/anaconda3/envs/bio_39/lib/python3.9/site-packages/dask/core.py:119: FutureWarning: Providing the `multichannel` argument positionally to gaussian is deprecated. Use the `channel_axis` kwarg instead.\n",
      "  return func(*(_execute_task(a, cache) for a in args))\n"
     ]
    },
    {
     "data": {
      "text/plain": [
       "array([[0.51800035, 0.51494317, 0.4959962 , 0.4724908 , 0.45832276],\n",
       "       [0.52914937, 0.52074675, 0.50109622, 0.47995712, 0.46836169],\n",
       "       [0.52379338, 0.5127232 , 0.49469365, 0.47737214, 0.46887331],\n",
       "       [0.51364489, 0.5019556 , 0.48772077, 0.47658667, 0.47355992],\n",
       "       [0.51341096, 0.50115861, 0.49142151, 0.48842408, 0.49378821]])"
      ]
     },
     "execution_count": 4,
     "metadata": {},
     "output_type": "execute_result"
    }
   ],
   "source": [
    "new_w.get(\"denoised\")"
   ]
  },
  {
   "cell_type": "code",
   "execution_count": null,
   "id": "4061e035-ef27-4537-ac22-04dd5e892693",
   "metadata": {},
   "outputs": [],
   "source": []
  }
 ],
 "metadata": {
  "kernelspec": {
   "display_name": "Python 3 (ipykernel)",
   "language": "python",
   "name": "python3"
  },
  "language_info": {
   "codemirror_mode": {
    "name": "ipython",
    "version": 3
   },
   "file_extension": ".py",
   "mimetype": "text/x-python",
   "name": "python",
   "nbconvert_exporter": "python",
   "pygments_lexer": "ipython3",
   "version": "3.9.0"
  }
 },
 "nbformat": 4,
 "nbformat_minor": 5
}
