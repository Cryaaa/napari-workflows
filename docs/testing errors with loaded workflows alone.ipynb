{
 "cells": [
  {
   "cell_type": "markdown",
   "id": "2067080b",
   "metadata": {},
   "source": [
    "To be able to do proper tests I need to be able to reproduce these bugs from code. This means I need add a noise removal step, undo adding the step and then add another noise removal step with the assistant from code:"
   ]
  },
  {
   "cell_type": "code",
   "execution_count": 1,
   "id": "73215779",
   "metadata": {},
   "outputs": [
    {
     "name": "stderr",
     "output_type": "stream",
     "text": [
      "C:\\Users\\ryans\\anaconda3\\envs\\np_workflows_v1\\lib\\site-packages\\napari_tools_menu\\__init__.py:165: FutureWarning: Public access to Window.qt_viewer is deprecated and will be removed in\n",
      "v0.5.0. It is considered an \"implementation detail\" of the napari\n",
      "application, not part of the napari viewer model. If your use case\n",
      "requires access to qt_viewer, please open an issue to discuss.\n",
      "  self.tools_menu = ToolsMenu(self, self.qt_viewer.viewer)\n"
     ]
    },
    {
     "data": {
      "text/plain": [
       "<Image layer 'blobs' at 0x174930ef010>"
      ]
     },
     "execution_count": 1,
     "metadata": {},
     "output_type": "execute_result"
    }
   ],
   "source": [
    "import napari\n",
    "from napari_assistant._gui._Assistant import Assistant\n",
    "from skimage.io import imread\n",
    "from napari_assistant._categories import CATEGORIES\n",
    "\n",
    "filename = 'C:/Users/ryans/OneDrive/Desktop/blobs.tif'\n",
    "blobs = imread(filename)\n",
    "\n",
    "viewer = napari.Viewer()\n",
    "viewer.add_image(blobs)"
   ]
  },
  {
   "cell_type": "code",
   "execution_count": 2,
   "id": "c957e761",
   "metadata": {},
   "outputs": [
    {
     "name": "stdout",
     "output_type": "stream",
     "text": [
      "  loading args: (array([[ 40,  32,  24, ..., 216, 200, 200],\n",
      "       [ 56,  40,  24, ..., 232, 216, 216],\n",
      "       [ 64,  48,  24, ..., 240, 232, 232],\n",
      "       ...,\n",
      "       [ 72,  80,  80, ...,  48,  48,  48],\n",
      "       [ 80,  80,  80, ...,  48,  48,  48],\n",
      "       [ 96,  88,  80, ...,  48,  48,  48]], dtype=uint8),)\n",
      "loading kwargs: {'sigma': 4.0, 'viewer': Viewer(axes=Axes(visible=False, labels=True, colored=True, dashed=False, arrows=True), camera=Camera(center=(0.0, 126.5, 127.5), zoom=2.2403543307086613, angles=(0.0, 0.0, 90.0), perspective=0.0, interactive=True), cursor=Cursor(position=(1.0, 1.0), scaled=True, size=1, style=<CursorStyle.STANDARD: 'standard'>), dims=Dims(ndim=2, ndisplay=2, last_used=0, range=((0.0, 254.0, 1.0), (0.0, 256.0, 1.0)), current_step=(127, 128), order=(0, 1), axis_labels=('0', '1')), grid=GridCanvas(stride=-1, shape=(-1, -1), enabled=False), layers=[<Image layer 'blobs' at 0x174930ef010>, <Image layer 'Result of Gaussian (scikit-image, nsbatwm)' at 0x174c2cf6aa0>], scale_bar=ScaleBar(visible=False, colored=False, ticks=True, position=<Position.BOTTOM_RIGHT: 'bottom_right'>, font_size=10.0, unit=None), text_overlay=TextOverlay(visible=False, color=array([0.5, 0.5, 0.5, 1. ]), font_size=10.0, position=<TextOverlayPosition.TOP_LEFT: 'top_left'>, text=''), overlays=Overlays(interaction_box=InteractionBox(points=None, show=False, show_handle=False, show_vertices=False, selection_box_drag=None, selection_box_final=None, transform_start=<napari.utils.transforms.transforms.Affine object at 0x00000174B32F4520>, transform_drag=<napari.utils.transforms.transforms.Affine object at 0x00000174B32F4580>, transform_final=<napari.utils.transforms.transforms.Affine object at 0x00000174B32F45E0>, transform=<napari.utils.transforms.transforms.Affine object at 0x00000174B32F4640>, allow_new_selection=True, selected_vertex=None)), help='', status='Ready', tooltip=Tooltip(visible=False, text=''), theme='dark', title='napari', mouse_move_callbacks=[<function InteractionBoxMouseBindings.initialize_mouse_events.<locals>.mouse_move at 0x00000174BA70E5F0>], mouse_drag_callbacks=[<function InteractionBoxMouseBindings.initialize_mouse_events.<locals>.mouse_drag at 0x00000174BA70DB40>], mouse_double_click_callbacks=[], mouse_wheel_callbacks=[<function dims_scroll at 0x00000174B159FB50>], _persisted_mouse_event={}, _mouse_drag_gen={}, _mouse_wheel_gen={}, keymap={'Shift': <function InteractionBoxMouseBindings.initialize_key_events.<locals>.hold_to_lock_aspect_ratio at 0x00000174BA70D990>, 'Control-Shift-R': <function InteractionBoxMouseBindings._reset_active_layer_affine at 0x00000174BA6C6C20>, 'Control-Shift-A': <function InteractionBoxMouseBindings._transform_active_layer at 0x00000174BA6C7760>})}\n",
      "set workflow step: Result of Gaussian (scikit-image, nsbatwm)\n",
      "     args: ['blobs']\n",
      "   kwargs: {'sigma': 4.0}\n",
      "signature: (image: napari.types.ImageData, *, sigma: float = 4.0, viewer: napari.viewer.Viewer = None) -> napari.types.ImageData\n",
      "  loading args: (array([[ 40,  32,  24, ..., 216, 200, 200],\n",
      "       [ 56,  40,  24, ..., 232, 216, 216],\n",
      "       [ 64,  48,  24, ..., 240, 232, 232],\n",
      "       ...,\n",
      "       [ 72,  80,  80, ...,  48,  48,  48],\n",
      "       [ 80,  80,  80, ...,  48,  48,  48],\n",
      "       [ 96,  88,  80, ...,  48,  48,  48]], dtype=uint8),)\n",
      "loading kwargs: {'sigma': 4.0, 'viewer': Viewer(axes=Axes(visible=False, labels=True, colored=True, dashed=False, arrows=True), camera=Camera(center=(0.0, 126.5, 127.5), zoom=2.2403543307086613, angles=(0.0, 0.0, 90.0), perspective=0.0, interactive=True), cursor=Cursor(position=(1.0, 1.0), scaled=True, size=1, style=<CursorStyle.STANDARD: 'standard'>), dims=Dims(ndim=2, ndisplay=2, last_used=0, range=((0.0, 254.0, 1.0), (0.0, 256.0, 1.0)), current_step=(127, 128), order=(0, 1), axis_labels=('0', '1')), grid=GridCanvas(stride=-1, shape=(-1, -1), enabled=False), layers=[<Image layer 'blobs' at 0x174930ef010>, <Image layer 'Result of Gaussian (scikit-image, nsbatwm)' at 0x174c2cf6aa0>], scale_bar=ScaleBar(visible=False, colored=False, ticks=True, position=<Position.BOTTOM_RIGHT: 'bottom_right'>, font_size=10.0, unit=None), text_overlay=TextOverlay(visible=False, color=array([0.5, 0.5, 0.5, 1. ]), font_size=10.0, position=<TextOverlayPosition.TOP_LEFT: 'top_left'>, text=''), overlays=Overlays(interaction_box=InteractionBox(points=None, show=False, show_handle=False, show_vertices=False, selection_box_drag=None, selection_box_final=None, transform_start=<napari.utils.transforms.transforms.Affine object at 0x00000174B32F4520>, transform_drag=<napari.utils.transforms.transforms.Affine object at 0x00000174B32F4580>, transform_final=<napari.utils.transforms.transforms.Affine object at 0x00000174B32F45E0>, transform=<napari.utils.transforms.transforms.Affine object at 0x00000174B32F4640>, allow_new_selection=True, selected_vertex=None)), help='', status='Ready', tooltip=Tooltip(visible=False, text=''), theme='dark', title='napari', mouse_move_callbacks=[<function InteractionBoxMouseBindings.initialize_mouse_events.<locals>.mouse_move at 0x00000174BA70E5F0>], mouse_drag_callbacks=[<function InteractionBoxMouseBindings.initialize_mouse_events.<locals>.mouse_drag at 0x00000174BA70DB40>], mouse_double_click_callbacks=[], mouse_wheel_callbacks=[<function dims_scroll at 0x00000174B159FB50>], _persisted_mouse_event={}, _mouse_drag_gen={}, _mouse_wheel_gen={}, keymap={'Shift': <function InteractionBoxMouseBindings.initialize_key_events.<locals>.hold_to_lock_aspect_ratio at 0x00000174BA70D990>, 'Control-Shift-R': <function InteractionBoxMouseBindings._reset_active_layer_affine at 0x00000174BA6C6C20>, 'Control-Shift-A': <function InteractionBoxMouseBindings._transform_active_layer at 0x00000174BA6C7760>})}\n",
      "set workflow step: Result of Gaussian (scikit-image, nsbatwm)\n",
      "     args: ['blobs']\n",
      "   kwargs: {'sigma': 4.0}\n",
      "signature: (image: napari.types.ImageData, *, sigma: float = 4.0, viewer: napari.viewer.Viewer = None) -> napari.types.ImageData\n"
     ]
    }
   ],
   "source": [
    "assistant = Assistant(viewer)\n",
    "viewer.window.add_dock_widget(assistant)\n",
    "assistant.load_workflow('simple workflow.yaml')"
   ]
  },
  {
   "cell_type": "code",
   "execution_count": 3,
   "id": "ed32a70e-6a32-47b7-a4bf-d4cc01b23453",
   "metadata": {},
   "outputs": [
    {
     "name": "stdout",
     "output_type": "stream",
     "text": [
      "call op kwargs: {'x': 1.0, 'y': 1.0, 'z': 0.0, 'u': 0.0, 'v': 0.0, 'w': 0.0, 'a': False, 'b': False, 'c': False, 'k': '', 'l': '', 'm': ''}\n",
      "args sent to workflow manager from category widget: [array([[0.14280938, 0.13814596, 0.1335724 , ..., 0.88336891, 0.87451825,\n",
      "        0.86551713],\n",
      "       [0.14465108, 0.14062554, 0.13662666, ..., 0.88998909, 0.88201441,\n",
      "        0.87390457],\n",
      "       [0.14634725, 0.14306104, 0.13974923, ..., 0.89589819, 0.88882634,\n",
      "        0.8816374 ],\n",
      "       ...,\n",
      "       [0.28696499, 0.28283605, 0.27787875, ..., 0.19232548, 0.1914213 ,\n",
      "        0.19114396],\n",
      "       [0.29816608, 0.29312658, 0.28720895, ..., 0.1926726 , 0.19133695,\n",
      "        0.19075157],\n",
      "       [0.30843747, 0.30248298, 0.29561129, ..., 0.19302485, 0.19128849,\n",
      "        0.19042354]]), 1.0]\n",
      "set workflow step: Result of Gaussian (scikit-image, nsbatwm) [1]\n",
      "     args: ['Result of Gaussian (scikit-image, nsbatwm)', 1.0]\n",
      "   kwargs: {}\n",
      "signature: (image: napari.types.ImageData, *, sigma: float = 4.0, viewer: napari.viewer.Viewer = None) -> napari.types.ImageData\n"
     ]
    },
    {
     "ename": "TypeError",
     "evalue": "too many positional arguments",
     "output_type": "error",
     "traceback": [
      "\u001b[1;31m---------------------------------------------------------------------------\u001b[0m",
      "\u001b[1;31mTypeError\u001b[0m                                 Traceback (most recent call last)",
      "Input \u001b[1;32mIn [3]\u001b[0m, in \u001b[0;36m<cell line: 2>\u001b[1;34m()\u001b[0m\n\u001b[0;32m      1\u001b[0m assistant\u001b[38;5;241m.\u001b[39msearch_field\u001b[38;5;241m.\u001b[39msetText(\u001b[38;5;124m'\u001b[39m\u001b[38;5;124mnsb\u001b[39m\u001b[38;5;124m'\u001b[39m)\n\u001b[1;32m----> 2\u001b[0m widget \u001b[38;5;241m=\u001b[39m \u001b[43massistant\u001b[49m\u001b[38;5;241;43m.\u001b[39;49m\u001b[43m_activate\u001b[49m\u001b[43m(\u001b[49m\u001b[43mCATEGORIES\u001b[49m\u001b[38;5;241;43m.\u001b[39;49m\u001b[43mget\u001b[49m\u001b[43m(\u001b[49m\u001b[38;5;124;43m\"\u001b[39;49m\u001b[38;5;124;43mRemove noise\u001b[39;49m\u001b[38;5;124;43m\"\u001b[39;49m\u001b[43m)\u001b[49m\u001b[43m)\u001b[49m\n",
      "File \u001b[1;32mc:\\users\\ryans\\onedrive\\documents\\bia pol stuff\\napari workflow repositories\\napari-assistant\\napari_assistant\\_gui\\_Assistant.py:197\u001b[0m, in \u001b[0;36mAssistant._activate\u001b[1;34m(self, category)\u001b[0m\n\u001b[0;32m    194\u001b[0m     \u001b[38;5;28;01mpass\u001b[39;00m \u001b[38;5;66;03m# this happens if input0 should be labels but we provide an image\u001b[39;00m\n\u001b[0;32m    195\u001b[0m \u001b[38;5;66;03m# call the function widget &\u001b[39;00m\n\u001b[0;32m    196\u001b[0m \u001b[38;5;66;03m# track the association between the layer and the gui that generated it\u001b[39;00m\n\u001b[1;32m--> 197\u001b[0m \u001b[38;5;28mself\u001b[39m\u001b[38;5;241m.\u001b[39m_layers[\u001b[43mgui\u001b[49m\u001b[43m(\u001b[49m\u001b[43m)\u001b[49m] \u001b[38;5;241m=\u001b[39m (dw, gui)\n\u001b[0;32m    198\u001b[0m \u001b[38;5;66;03m# turn on auto_call, and make sure that if the input changes we update\u001b[39;00m\n\u001b[0;32m    199\u001b[0m gui\u001b[38;5;241m.\u001b[39m_auto_call \u001b[38;5;241m=\u001b[39m \u001b[38;5;28;01mTrue\u001b[39;00m\n",
      "File \u001b[1;32m~\\anaconda3\\envs\\np_workflows_v1\\lib\\site-packages\\magicgui\\widgets\\_function_gui.py:303\u001b[0m, in \u001b[0;36mFunctionGui.__call__\u001b[1;34m(self, update_widget, *args, **kwargs)\u001b[0m\n\u001b[0;32m    301\u001b[0m \u001b[38;5;28mself\u001b[39m\u001b[38;5;241m.\u001b[39m_tqdm_depth \u001b[38;5;241m=\u001b[39m \u001b[38;5;241m0\u001b[39m  \u001b[38;5;66;03m# reset the tqdm stack count\u001b[39;00m\n\u001b[0;32m    302\u001b[0m \u001b[38;5;28;01mwith\u001b[39;00m _function_name_pointing_to_widget(\u001b[38;5;28mself\u001b[39m):\n\u001b[1;32m--> 303\u001b[0m     value \u001b[38;5;241m=\u001b[39m \u001b[38;5;28mself\u001b[39m\u001b[38;5;241m.\u001b[39m_function(\u001b[38;5;241m*\u001b[39mbound\u001b[38;5;241m.\u001b[39margs, \u001b[38;5;241m*\u001b[39m\u001b[38;5;241m*\u001b[39mbound\u001b[38;5;241m.\u001b[39mkwargs)\n\u001b[0;32m    305\u001b[0m \u001b[38;5;28mself\u001b[39m\u001b[38;5;241m.\u001b[39m_call_count \u001b[38;5;241m+\u001b[39m\u001b[38;5;241m=\u001b[39m \u001b[38;5;241m1\u001b[39m\n\u001b[0;32m    306\u001b[0m \u001b[38;5;28;01mif\u001b[39;00m \u001b[38;5;28mself\u001b[39m\u001b[38;5;241m.\u001b[39m_result_widget \u001b[38;5;129;01mis\u001b[39;00m \u001b[38;5;129;01mnot\u001b[39;00m \u001b[38;5;28;01mNone\u001b[39;00m:\n",
      "File \u001b[1;32mc:\\users\\ryans\\onedrive\\documents\\bia pol stuff\\napari workflow repositories\\napari-assistant\\napari_assistant\\_gui\\_category_widget.py:371\u001b[0m, in \u001b[0;36mmake_gui_for_category.<locals>.gui_function\u001b[1;34m(**kwargs)\u001b[0m\n\u001b[0;32m    369\u001b[0m     \u001b[38;5;28mprint\u001b[39m(\u001b[38;5;124mf\u001b[39m\u001b[38;5;124m'\u001b[39m\u001b[38;5;124margs sent to workflow manager from category widget: \u001b[39m\u001b[38;5;132;01m{\u001b[39;00mused_args\u001b[38;5;132;01m}\u001b[39;00m\u001b[38;5;124m'\u001b[39m)\n\u001b[0;32m    370\u001b[0m     manager \u001b[38;5;241m=\u001b[39m WorkflowManager\u001b[38;5;241m.\u001b[39minstall(viewer)\n\u001b[1;32m--> 371\u001b[0m     \u001b[43mmanager\u001b[49m\u001b[38;5;241;43m.\u001b[39;49m\u001b[43mupdate\u001b[49m\u001b[43m(\u001b[49m\u001b[43mresult_layer\u001b[49m\u001b[43m,\u001b[49m\u001b[43m \u001b[49m\u001b[43mfind_function\u001b[49m\u001b[43m(\u001b[49m\u001b[43mop_name\u001b[49m\u001b[43m)\u001b[49m\u001b[43m,\u001b[49m\u001b[43m \u001b[49m\u001b[38;5;241;43m*\u001b[39;49m\u001b[43mused_args\u001b[49m\u001b[43m)\u001b[49m\n\u001b[0;32m    372\u001b[0m     \u001b[38;5;66;03m#print(\"notified\", result_layer.name, find_function(op_name))\u001b[39;00m\n\u001b[0;32m    373\u001b[0m \u001b[38;5;28;01mexcept\u001b[39;00m \u001b[38;5;167;01mImportError\u001b[39;00m:\n",
      "File \u001b[1;32mc:\\users\\ryans\\onedrive\\documents\\bia pol stuff\\napari workflow repositories\\napari-workflows\\src\\napari_workflows\\_workflow.py:267\u001b[0m, in \u001b[0;36mWorkflowManager.update\u001b[1;34m(self, target_layer, function, *args, **kwargs)\u001b[0m\n\u001b[0;32m    264\u001b[0m \u001b[38;5;28;01mfrom\u001b[39;00m \u001b[38;5;21;01m.\u001b[39;00m\u001b[38;5;21;01m_workflowmanager_commands\u001b[39;00m \u001b[38;5;28;01mimport\u001b[39;00m Update_workflow_step\n\u001b[0;32m    265\u001b[0m kwargs \u001b[38;5;241m=\u001b[39m {k:v \u001b[38;5;28;01mfor\u001b[39;00m k,v \u001b[38;5;129;01min\u001b[39;00m kwargs\u001b[38;5;241m.\u001b[39mitems() \u001b[38;5;28;01mif\u001b[39;00m \u001b[38;5;129;01mnot\u001b[39;00m ((\u001b[38;5;28misinstance\u001b[39m(v, Viewer)) \u001b[38;5;129;01mor\u001b[39;00m (k \u001b[38;5;241m==\u001b[39m \u001b[38;5;124m'\u001b[39m\u001b[38;5;124mviewer\u001b[39m\u001b[38;5;124m'\u001b[39m))}\n\u001b[1;32m--> 267\u001b[0m \u001b[38;5;28;43mself\u001b[39;49m\u001b[38;5;241;43m.\u001b[39;49m\u001b[43mundo_redo_controller\u001b[49m\u001b[38;5;241;43m.\u001b[39;49m\u001b[43mexecute\u001b[49m\u001b[43m(\u001b[49m\u001b[43mUpdate_workflow_step\u001b[49m\u001b[43m(\u001b[49m\n\u001b[0;32m    268\u001b[0m \u001b[43m    \u001b[49m\u001b[38;5;28;43mself\u001b[39;49m\u001b[38;5;241;43m.\u001b[39;49m\u001b[43mworkflow\u001b[49m\u001b[43m,\u001b[49m\n\u001b[0;32m    269\u001b[0m \u001b[43m    \u001b[49m\u001b[38;5;28;43mself\u001b[39;49m\u001b[38;5;241;43m.\u001b[39;49m\u001b[43mviewer\u001b[49m\u001b[43m,\u001b[49m\n\u001b[0;32m    270\u001b[0m \u001b[43m    \u001b[49m\u001b[43mtarget_layer\u001b[49m\u001b[43m,\u001b[49m\n\u001b[0;32m    271\u001b[0m \u001b[43m    \u001b[49m\u001b[43mfunction\u001b[49m\u001b[43m,\u001b[49m\n\u001b[0;32m    272\u001b[0m \u001b[43m    \u001b[49m\u001b[38;5;241;43m*\u001b[39;49m\u001b[43margs\u001b[49m\u001b[43m,\u001b[49m\n\u001b[0;32m    273\u001b[0m \u001b[43m    \u001b[49m\u001b[38;5;241;43m*\u001b[39;49m\u001b[38;5;241;43m*\u001b[39;49m\u001b[43mkwargs\u001b[49m\u001b[43m,\u001b[49m\n\u001b[0;32m    274\u001b[0m \u001b[43m    \u001b[49m\u001b[43m)\u001b[49m\n\u001b[0;32m    275\u001b[0m \u001b[43m\u001b[49m\u001b[43m)\u001b[49m\n\u001b[0;32m    277\u001b[0m \u001b[38;5;66;03m# set result valid\u001b[39;00m\n\u001b[0;32m    278\u001b[0m target_layer\u001b[38;5;241m.\u001b[39mmetadata[METADATA_WORKFLOW_VALID_KEY] \u001b[38;5;241m=\u001b[39m \u001b[38;5;28;01mTrue\u001b[39;00m\n",
      "File \u001b[1;32mc:\\users\\ryans\\onedrive\\documents\\bia pol stuff\\napari workflow repositories\\napari-workflows\\src\\napari_workflows\\_undo_redo_functionality.py:55\u001b[0m, in \u001b[0;36mUndo_redo_controller.execute\u001b[1;34m(self, action)\u001b[0m\n\u001b[0;32m     51\u001b[0m \u001b[38;5;28;01mif\u001b[39;00m \u001b[38;5;129;01mnot\u001b[39;00m \u001b[38;5;28mself\u001b[39m\u001b[38;5;241m.\u001b[39mfreeze_stacks:\n\u001b[0;32m     52\u001b[0m     \u001b[38;5;28mself\u001b[39m\u001b[38;5;241m.\u001b[39mundo_stack\u001b[38;5;241m.\u001b[39mappend(\n\u001b[0;32m     53\u001b[0m         copy_workflow_state(\u001b[38;5;28mself\u001b[39m\u001b[38;5;241m.\u001b[39mworkflow)\n\u001b[0;32m     54\u001b[0m         )\n\u001b[1;32m---> 55\u001b[0m \u001b[43maction\u001b[49m\u001b[38;5;241;43m.\u001b[39;49m\u001b[43mexecute\u001b[49m\u001b[43m(\u001b[49m\u001b[43m)\u001b[49m\n",
      "File \u001b[1;32mc:\\users\\ryans\\onedrive\\documents\\bia pol stuff\\napari workflow repositories\\napari-workflows\\src\\napari_workflows\\_workflowmanager_commands.py:34\u001b[0m, in \u001b[0;36mUpdate_workflow_step.execute\u001b[1;34m(self)\u001b[0m\n\u001b[0;32m     32\u001b[0m     args \u001b[38;5;241m=\u001b[39m args[:\u001b[38;5;241m-\u001b[39m\u001b[38;5;241m1\u001b[39m]\n\u001b[0;32m     33\u001b[0m args \u001b[38;5;241m=\u001b[39m \u001b[38;5;28mtuple\u001b[39m(args)\n\u001b[1;32m---> 34\u001b[0m \u001b[38;5;28mself\u001b[39m\u001b[38;5;241m.\u001b[39mworkflow\u001b[38;5;241m.\u001b[39mset(\u001b[38;5;28mself\u001b[39m\u001b[38;5;241m.\u001b[39mtarget_layer\u001b[38;5;241m.\u001b[39mname, \u001b[38;5;28mself\u001b[39m\u001b[38;5;241m.\u001b[39mfunction, \u001b[38;5;241m*\u001b[39margs, \u001b[38;5;241m*\u001b[39m\u001b[38;5;241m*\u001b[39m\u001b[38;5;28mself\u001b[39m\u001b[38;5;241m.\u001b[39mkwargs)\n\u001b[0;32m     36\u001b[0m \u001b[38;5;66;03m# plus the remove zombies function\u001b[39;00m\n\u001b[0;32m     37\u001b[0m kill_zombies(\u001b[38;5;28mself\u001b[39m\u001b[38;5;241m.\u001b[39mviewer,\u001b[38;5;28mself\u001b[39m\u001b[38;5;241m.\u001b[39mworkflow)\n",
      "File \u001b[1;32mc:\\users\\ryans\\onedrive\\documents\\bia pol stuff\\napari workflow repositories\\napari-workflows\\src\\napari_workflows\\_workflow.py:59\u001b[0m, in \u001b[0;36mWorkflow.set\u001b[1;34m(self, name, func_or_data, *args, **kwargs)\u001b[0m\n\u001b[0;32m     56\u001b[0m \u001b[38;5;28mprint\u001b[39m(\u001b[38;5;124mf\u001b[39m\u001b[38;5;124m'\u001b[39m\u001b[38;5;124m   kwargs: \u001b[39m\u001b[38;5;132;01m{\u001b[39;00mkwargs\u001b[38;5;132;01m}\u001b[39;00m\u001b[38;5;124m'\u001b[39m)\n\u001b[0;32m     57\u001b[0m \u001b[38;5;28mprint\u001b[39m(\u001b[38;5;124mf\u001b[39m\u001b[38;5;124m'\u001b[39m\u001b[38;5;124msignature: \u001b[39m\u001b[38;5;132;01m{\u001b[39;00msig\u001b[38;5;132;01m}\u001b[39;00m\u001b[38;5;124m'\u001b[39m)\n\u001b[1;32m---> 59\u001b[0m bound \u001b[38;5;241m=\u001b[39m sig\u001b[38;5;241m.\u001b[39mbind(\u001b[38;5;241m*\u001b[39margs, \u001b[38;5;241m*\u001b[39m\u001b[38;5;241m*\u001b[39mkwargs)\n\u001b[0;32m     60\u001b[0m bound\u001b[38;5;241m.\u001b[39mapply_defaults()\n\u001b[0;32m     64\u001b[0m \u001b[38;5;66;03m# Go through arguments and in case it's a callable, remove it\u001b[39;00m\n\u001b[0;32m     65\u001b[0m \u001b[38;5;66;03m# We should only have numbers, strings and images as parameters\u001b[39;00m\n",
      "File \u001b[1;32m~\\anaconda3\\envs\\np_workflows_v1\\lib\\inspect.py:3179\u001b[0m, in \u001b[0;36mSignature.bind\u001b[1;34m(self, *args, **kwargs)\u001b[0m\n\u001b[0;32m   3174\u001b[0m \u001b[38;5;28;01mdef\u001b[39;00m \u001b[38;5;21mbind\u001b[39m(\u001b[38;5;28mself\u001b[39m, \u001b[38;5;241m/\u001b[39m, \u001b[38;5;241m*\u001b[39margs, \u001b[38;5;241m*\u001b[39m\u001b[38;5;241m*\u001b[39mkwargs):\n\u001b[0;32m   3175\u001b[0m     \u001b[38;5;124;03m\"\"\"Get a BoundArguments object, that maps the passed `args`\u001b[39;00m\n\u001b[0;32m   3176\u001b[0m \u001b[38;5;124;03m    and `kwargs` to the function's signature.  Raises `TypeError`\u001b[39;00m\n\u001b[0;32m   3177\u001b[0m \u001b[38;5;124;03m    if the passed arguments can not be bound.\u001b[39;00m\n\u001b[0;32m   3178\u001b[0m \u001b[38;5;124;03m    \"\"\"\u001b[39;00m\n\u001b[1;32m-> 3179\u001b[0m     \u001b[38;5;28;01mreturn\u001b[39;00m \u001b[38;5;28;43mself\u001b[39;49m\u001b[38;5;241;43m.\u001b[39;49m\u001b[43m_bind\u001b[49m\u001b[43m(\u001b[49m\u001b[43margs\u001b[49m\u001b[43m,\u001b[49m\u001b[43m \u001b[49m\u001b[43mkwargs\u001b[49m\u001b[43m)\u001b[49m\n",
      "File \u001b[1;32m~\\anaconda3\\envs\\np_workflows_v1\\lib\\inspect.py:3105\u001b[0m, in \u001b[0;36mSignature._bind\u001b[1;34m(self, args, kwargs, partial)\u001b[0m\n\u001b[0;32m   3101\u001b[0m \u001b[38;5;28;01melse\u001b[39;00m:\n\u001b[0;32m   3102\u001b[0m     \u001b[38;5;28;01mif\u001b[39;00m param\u001b[38;5;241m.\u001b[39mkind \u001b[38;5;129;01min\u001b[39;00m (_VAR_KEYWORD, _KEYWORD_ONLY):\n\u001b[0;32m   3103\u001b[0m         \u001b[38;5;66;03m# Looks like we have no parameter for this positional\u001b[39;00m\n\u001b[0;32m   3104\u001b[0m         \u001b[38;5;66;03m# argument\u001b[39;00m\n\u001b[1;32m-> 3105\u001b[0m         \u001b[38;5;28;01mraise\u001b[39;00m \u001b[38;5;167;01mTypeError\u001b[39;00m(\n\u001b[0;32m   3106\u001b[0m             \u001b[38;5;124m'\u001b[39m\u001b[38;5;124mtoo many positional arguments\u001b[39m\u001b[38;5;124m'\u001b[39m) \u001b[38;5;28;01mfrom\u001b[39;00m \u001b[38;5;28mNone\u001b[39m\n\u001b[0;32m   3108\u001b[0m     \u001b[38;5;28;01mif\u001b[39;00m param\u001b[38;5;241m.\u001b[39mkind \u001b[38;5;241m==\u001b[39m _VAR_POSITIONAL:\n\u001b[0;32m   3109\u001b[0m         \u001b[38;5;66;03m# We have an '*args'-like argument, let's fill it with\u001b[39;00m\n\u001b[0;32m   3110\u001b[0m         \u001b[38;5;66;03m# all positional arguments we have left and move on to\u001b[39;00m\n\u001b[0;32m   3111\u001b[0m         \u001b[38;5;66;03m# the next phase\u001b[39;00m\n\u001b[0;32m   3112\u001b[0m         values \u001b[38;5;241m=\u001b[39m [arg_val]\n",
      "\u001b[1;31mTypeError\u001b[0m: too many positional arguments"
     ]
    }
   ],
   "source": [
    "assistant.search_field.setText('nsb')\n",
    "widget = assistant._activate(CATEGORIES.get(\"Remove noise\"))"
   ]
  }
 ],
 "metadata": {
  "kernelspec": {
   "display_name": "workflows_kernel",
   "language": "python",
   "name": "workflows_kernel"
  },
  "language_info": {
   "codemirror_mode": {
    "name": "ipython",
    "version": 3
   },
   "file_extension": ".py",
   "mimetype": "text/x-python",
   "name": "python",
   "nbconvert_exporter": "python",
   "pygments_lexer": "ipython3",
   "version": "3.10.2"
  }
 },
 "nbformat": 4,
 "nbformat_minor": 5
}
