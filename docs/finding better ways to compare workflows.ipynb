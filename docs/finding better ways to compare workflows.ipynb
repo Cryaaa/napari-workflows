{
 "cells": [
  {
   "cell_type": "code",
   "execution_count": 4,
   "id": "fa018ea8",
   "metadata": {},
   "outputs": [
    {
     "name": "stdout",
     "output_type": "stream",
     "text": [
      "{'Result of gaussian_blur (clesperanto)': (<function gaussian_blur at 0x000001DA4FE1D940>, 'blobs', None, 1.0, 1.0, 0.0)}\n",
      "{'Result of gaussian_blur (clesperanto)': (<function gaussian_blur at 0x000001DA4FE1D940>, 'not blobs', None, 1.0, 1.0, 0.0)}\n"
     ]
    },
    {
     "data": {
      "text/plain": [
       "<function pyclesperanto_prototype.gaussian_blur(source: Union[numpy.ndarray, pyclesperanto_prototype._tier0._pycl.OCLArray, pyopencl._cl.Image, pyclesperanto_prototype._tier0._pycl._OCLImage], destination: Union[numpy.ndarray, pyclesperanto_prototype._tier0._pycl.OCLArray, pyopencl._cl.Image, pyclesperanto_prototype._tier0._pycl._OCLImage] = None, sigma_x: float = 0, sigma_y: float = 0, sigma_z: float = 0) -> Union[numpy.ndarray, pyclesperanto_prototype._tier0._pycl.OCLArray, pyopencl._cl.Image, pyclesperanto_prototype._tier0._pycl._OCLImage]>"
      ]
     },
     "execution_count": 4,
     "metadata": {},
     "output_type": "execute_result"
    }
   ],
   "source": [
    "from napari_workflows._io_yaml_v1 import load_workflow\n",
    "from skimage.io import imread\n",
    "\n",
    "blobs = imread('C:/Users/ryans/OneDrive/Desktop/blobs.tif')\n",
    "not_blobs = imread('C:/Users/ryans/OneDrive/Desktop/blobs_messed_up.tiff') \n",
    "\n",
    "workflow_1 = load_workflow(filename='simple wf 1.yaml')\n",
    "workflow_2 = load_workflow(filename='simple wf 2.yaml')\n",
    "\n",
    "print(workflow_1._tasks)\n",
    "print(workflow_2._tasks)\n",
    "\n",
    "function = workflow_1._tasks['Result of gaussian_blur (clesperanto)'][0]\n",
    "function"
   ]
  },
  {
   "cell_type": "code",
   "execution_count": 5,
   "id": "7a083444",
   "metadata": {},
   "outputs": [
    {
     "name": "stdout",
     "output_type": "stream",
     "text": [
      "Workflow:\n",
      "Result of gaussian_blur (clesperanto) <- (<function gaussian_blur at 0x000001DA4FE1D940>, array([[ 40,  32,  24, ..., 216, 200, 200],\n",
      "       [ 56,  40,  24, ..., 232, 216, 216],\n",
      "       [ 64,  48,  24, ..., 240, 232, 232],\n",
      "       ...,\n",
      "       [ 72,  80,  80, ...,  48,  48,  48],\n",
      "       [ 80,  80,  80, ...,  48,  48,  48],\n",
      "       [ 96,  88,  80, ...,  48,  48,  48]], dtype=uint8), None, 1.0, 1.0, 0.0)\n",
      "\n",
      "Workflow:\n",
      "Result of gaussian_blur (clesperanto) <- (<function gaussian_blur at 0x000001DA4FE1D940>, array([[ 0,  1,  2, ..., 11, 12, 12],\n",
      "       [24,  0,  2, ...,  9, 11, 11],\n",
      "       [28, 17,  2, ..., 26,  9,  9],\n",
      "       ...,\n",
      "       [16,  4,  4, ..., 17, 17, 17],\n",
      "       [ 4,  4,  4, ..., 17, 17, 17],\n",
      "       [18, 15,  4, ..., 17, 17, 17]], dtype=uint8), None, 1.0, 1.0, 0.0)\n",
      "\n"
     ]
    }
   ],
   "source": [
    "workflow_1._tasks = {'Result of gaussian_blur (clesperanto)': (function, blobs, None, 1.0, 1.0, 0.0)}\n",
    "workflow_2._tasks = {'Result of gaussian_blur (clesperanto)': (function, not_blobs, None, 1.0, 1.0, 0.0)}\n",
    "\n",
    "print(workflow_1)\n",
    "print(workflow_2)"
   ]
  },
  {
   "cell_type": "code",
   "execution_count": 6,
   "id": "e6773056",
   "metadata": {},
   "outputs": [
    {
     "ename": "ValueError",
     "evalue": "The truth value of an array with more than one element is ambiguous. Use a.any() or a.all()",
     "output_type": "error",
     "traceback": [
      "\u001b[1;31m---------------------------------------------------------------------------\u001b[0m",
      "\u001b[1;31mValueError\u001b[0m                                Traceback (most recent call last)",
      "\u001b[1;32m~\\AppData\\Local\\Temp/ipykernel_6368/1865659841.py\u001b[0m in \u001b[0;36m<module>\u001b[1;34m\u001b[0m\n\u001b[1;32m----> 1\u001b[1;33m \u001b[0mworkflow_1\u001b[0m\u001b[1;33m.\u001b[0m\u001b[0m_tasks\u001b[0m \u001b[1;33m!=\u001b[0m \u001b[0mworkflow_2\u001b[0m\u001b[1;33m.\u001b[0m\u001b[0m_tasks\u001b[0m\u001b[1;33m\u001b[0m\u001b[1;33m\u001b[0m\u001b[0m\n\u001b[0m",
      "\u001b[1;31mValueError\u001b[0m: The truth value of an array with more than one element is ambiguous. Use a.any() or a.all()"
     ]
    }
   ],
   "source": [
    "workflow_1._tasks != workflow_2._tasks"
   ]
  },
  {
   "cell_type": "code",
   "execution_count": 15,
   "id": "c90012f7",
   "metadata": {},
   "outputs": [
    {
     "data": {
      "text/plain": [
       "False"
      ]
     },
     "execution_count": 15,
     "metadata": {},
     "output_type": "execute_result"
    }
   ],
   "source": [
    "import numpy as np\n",
    "\n",
    "def compare_workflows(workflow_1, workflow_2):\n",
    "    tasks_1 = workflow_1._tasks\n",
    "    tasks_2 = workflow_2._tasks\n",
    "    \n",
    "    if sorted(tasks_1.keys()) != sorted(tasks_2.keys()):\n",
    "        return False\n",
    "    for (k1,v1),(k2,v2) in zip(sorted(tasks_1.items()),sorted(tasks_2.items())):  \n",
    "        try:\n",
    "            if v1 != v2:\n",
    "                return False\n",
    "        except:\n",
    "            if not np.array_equal(v1,v2):\n",
    "                return False\n",
    "    return True\n",
    "        \n",
    "\n",
    "compare_workflows(workflow_1,workflow_2)"
   ]
  },
  {
   "cell_type": "code",
   "execution_count": 9,
   "id": "61c2e6b0",
   "metadata": {},
   "outputs": [
    {
     "data": {
      "text/plain": [
       "False"
      ]
     },
     "execution_count": 9,
     "metadata": {},
     "output_type": "execute_result"
    }
   ],
   "source": [
    "import numpy as np\n",
    "np.array_equal(blobs,not_blobs)"
   ]
  },
  {
   "cell_type": "code",
   "execution_count": 12,
   "id": "4b0791db",
   "metadata": {},
   "outputs": [
    {
     "ename": "NameError",
     "evalue": "name 'v1' is not defined",
     "output_type": "error",
     "traceback": [
      "\u001b[1;31m---------------------------------------------------------------------------\u001b[0m",
      "\u001b[1;31mNameError\u001b[0m                                 Traceback (most recent call last)",
      "\u001b[1;32m~\\AppData\\Local\\Temp/ipykernel_6368/2237608170.py\u001b[0m in \u001b[0;36m<module>\u001b[1;34m\u001b[0m\n\u001b[1;32m----> 1\u001b[1;33m \u001b[0mv1\u001b[0m\u001b[1;33m\u001b[0m\u001b[1;33m\u001b[0m\u001b[0m\n\u001b[0m",
      "\u001b[1;31mNameError\u001b[0m: name 'v1' is not defined"
     ]
    }
   ],
   "source": [
    "v1"
   ]
  },
  {
   "cell_type": "code",
   "execution_count": null,
   "id": "739d086f",
   "metadata": {},
   "outputs": [],
   "source": []
  }
 ],
 "metadata": {
  "kernelspec": {
   "display_name": "Python 3 (ipykernel)",
   "language": "python",
   "name": "python3"
  },
  "language_info": {
   "codemirror_mode": {
    "name": "ipython",
    "version": 3
   },
   "file_extension": ".py",
   "mimetype": "text/x-python",
   "name": "python",
   "nbconvert_exporter": "python",
   "pygments_lexer": "ipython3",
   "version": "3.9.7"
  }
 },
 "nbformat": 4,
 "nbformat_minor": 5
}
