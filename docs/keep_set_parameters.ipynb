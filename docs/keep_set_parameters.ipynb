{
 "cells": [
  {
   "cell_type": "markdown",
   "id": "6d525b04",
   "metadata": {},
   "source": [
    "# How to save parameters along with the function \n",
    "\n",
    "This is a workaround for the problem of how to save *and restore* the parameters of a workflow (e.g., sigma for blurring, threshold values, etc) along with the functions. The idea is simple:\n",
    "\n",
    "Instead of setting workflow steps with, for instance, `w.set('blurring', blur_function, 'input', sigma=5)`, this notebook creates a partial function of `blur_function()` which is then added to the workflow. When the workflow is loaded and the partial function is passed to magicgui, the parameters are restored correctly."
   ]
  },
  {
   "cell_type": "code",
   "execution_count": 102,
   "id": "e1f5942e",
   "metadata": {},
   "outputs": [],
   "source": [
    "from napari_workflows import Workflow\n",
    "from napari.types import ImageData\n",
    "import napari\n",
    "import yaml\n",
    "from skimage.filters import threshold_otsu, gaussian\n",
    "\n",
    "import inspect\n",
    "import magicgui\n",
    "from functools import partial"
   ]
  },
  {
   "cell_type": "code",
   "execution_count": 103,
   "id": "70879938",
   "metadata": {},
   "outputs": [],
   "source": [
    "w = Workflow()\n",
    "\n",
    "# define segmentation\n",
    "def threshold(image: ImageData, value: float = 1) -> ImageData:\n",
    "    return image > value\n",
    "\n",
    "def add(imageA: ImageData, imageB:ImageData) -> ImageData:\n",
    "    return imageA + imageB\n",
    "\n",
    "def blur(image: ImageData, sigma: float=2):\n",
    "    return gaussian(image, sigma=sigma)\n",
    "\n",
    "_blur = partial(blur, sigma=5)\n",
    "\n",
    "w.set('blurring', _blur, 'input', sigma=5)\n",
    "w.set('binarization', threshold, 'blurring')\n",
    "\n",
    "\n",
    "with open('workflow.yaml', 'w') as f:\n",
    "    yaml.dump(w, f)"
   ]
  },
  {
   "cell_type": "code",
   "execution_count": 104,
   "id": "b7c2ce0d",
   "metadata": {},
   "outputs": [],
   "source": [
    "with open(\"workflow.yaml\", \"rb\") as stream:\n",
    "    w=yaml.unsafe_load(stream)"
   ]
  },
  {
   "cell_type": "code",
   "execution_count": 105,
   "id": "e50f6c21",
   "metadata": {},
   "outputs": [
    {
     "data": {
      "text/plain": [
       "{'binarization': (<function __main__.threshold(image: <function NewType.<locals>.new_type at 0x000002BC1715F9D0>, value: float = 1) -> <function NewType.<locals>.new_type at 0x000002BC1715F9D0>>,\n",
       "  'blurring',\n",
       "  1),\n",
       " 'blurring': (functools.partial(<function blur at 0x000002BC47C70D30>, sigma=5),\n",
       "  'input',\n",
       "  5)}"
      ]
     },
     "execution_count": 105,
     "metadata": {},
     "output_type": "execute_result"
    }
   ],
   "source": [
    "w._tasks"
   ]
  },
  {
   "cell_type": "code",
   "execution_count": 111,
   "id": "1f9054a8",
   "metadata": {},
   "outputs": [],
   "source": [
    "viewer = napari.Viewer()\n",
    "steps = w._tasks.keys()"
   ]
  },
  {
   "cell_type": "code",
   "execution_count": 113,
   "id": "67f5e1c9",
   "metadata": {},
   "outputs": [
    {
     "data": {
      "text/plain": [
       "['binarization', 'blurring']"
      ]
     },
     "execution_count": 113,
     "metadata": {},
     "output_type": "execute_result"
    }
   ],
   "source": []
  },
  {
   "cell_type": "code",
   "execution_count": 115,
   "id": "075d14e9",
   "metadata": {},
   "outputs": [],
   "source": [
    "viewer = napari.Viewer()\n",
    "\n",
    "for key in w._tasks.keys():\n",
    "    func = w._tasks[key][0]\n",
    "    widget = magicgui.magicgui(func)\n",
    "    viewer.window.add_dock_widget(widget)"
   ]
  },
  {
   "cell_type": "code",
   "execution_count": null,
   "id": "339bc451",
   "metadata": {},
   "outputs": [],
   "source": [
    "napari.utils.nbscreenshot(viewer, canvas_only=False)"
   ]
  }
 ],
 "metadata": {
  "kernelspec": {
   "display_name": "Python 3 (ipykernel)",
   "language": "python",
   "name": "python3"
  },
  "language_info": {
   "codemirror_mode": {
    "name": "ipython",
    "version": 3
   },
   "file_extension": ".py",
   "mimetype": "text/x-python",
   "name": "python",
   "nbconvert_exporter": "python",
   "pygments_lexer": "ipython3",
   "version": "3.9.7"
  }
 },
 "nbformat": 4,
 "nbformat_minor": 5
}
