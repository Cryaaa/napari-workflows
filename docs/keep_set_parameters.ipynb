{
 "cells": [
  {
   "cell_type": "markdown",
   "id": "5988de30",
   "metadata": {},
   "source": [
    "# How to save parameters along with the function \n",
    "\n",
    "This is a workaround for the problem of how to save *and restore* the parameters of a workflow (e.g., sigma for blurring, threshold values, etc) along with the functions. The idea is simple:\n",
    "\n",
    "Instead of setting workflow steps with, for instance, `w.set('blurring', blur_function, 'input', sigma=5)`, this notebook creates a partial function of `blur_function()` which is then added to the workflow. When the workflow is loaded and the partial function is passed to magicgui, the parameters are restored correctly."
   ]
  },
  {
   "cell_type": "code",
   "execution_count": 1,
   "id": "c95a81d2",
   "metadata": {},
   "outputs": [],
   "source": [
    "from napari_workflows import Workflow\n",
    "from napari.types import ImageData\n",
    "import napari\n",
    "import yaml\n",
    "from skimage.filters import threshold_otsu, gaussian\n",
    "\n",
    "import inspect\n",
    "import magicgui\n",
    "from functools import partial\n",
    "from napari_tools_menu import make_gui"
   ]
  },
  {
   "cell_type": "markdown",
   "id": "42e0e6aa",
   "metadata": {},
   "source": [
    "### First fix:\n",
    "\n",
    "Turn function into partial object before putting it into the workflow"
   ]
  },
  {
   "cell_type": "code",
   "execution_count": 2,
   "id": "5b3aeb9f",
   "metadata": {},
   "outputs": [],
   "source": [
    "w = Workflow()\n",
    "\n",
    "# define segmentation\n",
    "def threshold(image: ImageData, value: float = 1) -> ImageData:\n",
    "    return image > value\n",
    "\n",
    "def add(imageA: ImageData, imageB:ImageData) -> ImageData:\n",
    "    return imageA + imageB\n",
    "\n",
    "def blur(image: ImageData, sigma: float=2):\n",
    "    return gaussian(image, sigma=sigma)\n",
    "\n",
    "kwargs = {'sigma': 5}\n",
    "\n",
    "_blur = partial(blur, **kwargs)\n",
    "\n",
    "w.set('blurring', _blur, 'input', **kwargs)\n",
    "w.set('binarization', threshold, 'blurring')\n",
    "\n",
    "\n",
    "with open('workflow.yaml', 'w') as f:\n",
    "    yaml.dump(w, f)"
   ]
  },
  {
   "cell_type": "code",
   "execution_count": 3,
   "id": "51080ce2",
   "metadata": {},
   "outputs": [
    {
     "data": {
      "text/plain": [
       "{'binarization': (<function __main__.threshold(image: <function NewType.<locals>.new_type at 0x000002285844E9D0>, value: float = 1) -> <function NewType.<locals>.new_type at 0x000002285844E9D0>>,\n",
       "  'blurring',\n",
       "  1),\n",
       " 'blurring': (functools.partial(<function blur at 0x000002285AF01160>, sigma=5),\n",
       "  'input',\n",
       "  5)}"
      ]
     },
     "execution_count": 3,
     "metadata": {},
     "output_type": "execute_result"
    }
   ],
   "source": [
    "with open(\"workflow.yaml\", \"rb\") as stream:\n",
    "    w=yaml.unsafe_load(stream)\n",
    "    \n",
    "w._tasks"
   ]
  },
  {
   "cell_type": "code",
   "execution_count": 4,
   "id": "c6db219c",
   "metadata": {},
   "outputs": [
    {
     "name": "stdout",
     "output_type": "stream",
     "text": [
      "Warning: Could not find scikit-tensor which is needed for separable approximations...\n",
      "If you want to compute separable approximations, please install it with\n",
      "pip install scikit-tensor-py3\n"
     ]
    }
   ],
   "source": [
    "viewer = napari.Viewer()\n",
    "steps = w._tasks.keys()\n",
    "\n",
    "for key in w._tasks.keys():\n",
    "    func = w._tasks[key][0]\n",
    "    widget = magicgui.magicgui(func)\n",
    "    viewer.window.add_dock_widget(widget)"
   ]
  },
  {
   "cell_type": "markdown",
   "id": "bfbcd0c3",
   "metadata": {},
   "source": [
    "### Second fix:\n",
    "Turn function into partial object after loading it"
   ]
  },
  {
   "cell_type": "code",
   "execution_count": 5,
   "id": "56b16eea",
   "metadata": {},
   "outputs": [],
   "source": [
    "w = Workflow()\n",
    "w.set('blurring', blur, 'input', **kwargs)\n",
    "w.set('binarization', threshold, 'blurring')\n",
    "\n",
    "with open('_workflow.yaml', 'w') as f:\n",
    "    yaml.dump(w, f)"
   ]
  },
  {
   "cell_type": "code",
   "execution_count": 6,
   "id": "c29a8bfe",
   "metadata": {},
   "outputs": [
    {
     "data": {
      "text/plain": [
       "{'binarization': (<function __main__.threshold(image: <function NewType.<locals>.new_type at 0x000002285844E9D0>, value: float = 1) -> <function NewType.<locals>.new_type at 0x000002285844E9D0>>,\n",
       "  'blurring',\n",
       "  1),\n",
       " 'blurring': (<function __main__.blur(image: <function NewType.<locals>.new_type at 0x000002285844E9D0>, sigma: float = 2)>,\n",
       "  'input',\n",
       "  5)}"
      ]
     },
     "execution_count": 6,
     "metadata": {},
     "output_type": "execute_result"
    }
   ],
   "source": [
    "with open(\"_workflow.yaml\", \"rb\") as stream:\n",
    "    w=yaml.unsafe_load(stream)\n",
    "    \n",
    "w._tasks"
   ]
  },
  {
   "cell_type": "code",
   "execution_count": 7,
   "id": "e298c16a",
   "metadata": {},
   "outputs": [
    {
     "data": {
      "text/plain": [
       "('input', 5)"
      ]
     },
     "execution_count": 7,
     "metadata": {},
     "output_type": "execute_result"
    }
   ],
   "source": [
    "func = w._tasks['blurring'][0]\n",
    "w._tasks['blurring'][1:]"
   ]
  },
  {
   "cell_type": "code",
   "execution_count": 8,
   "id": "17a76426",
   "metadata": {},
   "outputs": [
    {
     "data": {
      "text/plain": [
       "'input'"
      ]
     },
     "execution_count": 8,
     "metadata": {},
     "output_type": "execute_result"
    }
   ],
   "source": [
    "keyword_list = list(inspect.signature(func).parameters.keys())\n",
    "\n",
    "kw_dict = {}\n",
    "for kw, val in zip(keyword_list, w._tasks['blurring'][1:]):\n",
    "    kw_dict[kw] = val\n",
    "kw_dict.pop('image')"
   ]
  },
  {
   "cell_type": "markdown",
   "id": "a82ac4dd",
   "metadata": {},
   "source": [
    "We need to retrieve a dictionary with parameter: value from the saved function"
   ]
  },
  {
   "cell_type": "code",
   "execution_count": 9,
   "id": "12ee3482",
   "metadata": {},
   "outputs": [],
   "source": [
    "func = partial(w._tasks['blurring'][0], **kw_dict)"
   ]
  },
  {
   "cell_type": "code",
   "execution_count": 10,
   "id": "0a214728",
   "metadata": {},
   "outputs": [
    {
     "data": {
      "text/plain": [
       "functools.partial(<function blur at 0x000002285AF01160>, sigma=5)"
      ]
     },
     "execution_count": 10,
     "metadata": {},
     "output_type": "execute_result"
    }
   ],
   "source": [
    "func"
   ]
  },
  {
   "cell_type": "code",
   "execution_count": 11,
   "id": "fca36ef2",
   "metadata": {},
   "outputs": [
    {
     "data": {
      "image/png": "[encoded data removed]",
      "text/plain": [
       "<FunctionGui worker_func(image: <function NewType.<locals>.new_type at 0x000002285844E9D0> = None, *, sigma: float = 5.0)>"
      ]
     },
     "execution_count": 11,
     "metadata": {},
     "output_type": "execute_result"
    }
   ],
   "source": [
    "viewer = napari.Viewer()\n",
    "widget = make_gui(func, viewer)\n",
    "viewer.window.add_dock_widget(widget)"
   ]
  },
  {
   "cell_type": "code",
   "execution_count": 12,
   "id": "4a5b04af",
   "metadata": {},
   "outputs": [],
   "source": []
  },
  {
   "cell_type": "code",
   "execution_count": null,
   "id": "3fc4c45e",
   "metadata": {},
   "outputs": [],
   "source": []
  }
 ],
 "metadata": {
  "kernelspec": {
   "display_name": "Python 3 (ipykernel)",
   "language": "python",
   "name": "python3"
  },
  "language_info": {
   "codemirror_mode": {
    "name": "ipython",
    "version": 3
   },
   "file_extension": ".py",
   "mimetype": "text/x-python",
   "name": "python",
   "nbconvert_exporter": "python",
   "pygments_lexer": "ipython3",
   "version": "3.9.7"
  }
 },
 "nbformat": 4,
 "nbformat_minor": 5
}
