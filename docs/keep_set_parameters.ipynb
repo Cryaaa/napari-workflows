{
 "cells": [
  {
   "cell_type": "markdown",
   "id": "985b7859",
   "metadata": {},
   "source": [
    "# How to save parameters along with the function \n",
    "\n",
    "This is a workaround for the problem of how to save *and restore* the parameters of a workflow (e.g., sigma for blurring, threshold values, etc) along with the functions. The idea is simple:\n",
    "\n",
    "Instead of setting workflow steps with, for instance, `w.set('blurring', blur_function, 'input', sigma=5)`, this notebook creates a partial function of `blur_function()` which is then added to the workflow. When the workflow is loaded and the partial function is passed to magicgui, the parameters are restored correctly."
   ]
  },
  {
   "cell_type": "code",
   "execution_count": null,
   "id": "a4e87540",
   "metadata": {},
   "outputs": [],
   "source": [
    "from napari_workflows import Workflow\n",
    "from napari.types import ImageData\n",
    "import napari\n",
    "import yaml\n",
    "from skimage.filters import threshold_otsu, gaussian\n",
    "\n",
    "import inspect\n",
    "import magicgui\n",
    "from functools import partial\n",
    "from napari_tools_menu import make_gui"
   ]
  },
  {
   "cell_type": "markdown",
   "id": "e56980ef",
   "metadata": {},
   "source": [
    "### First fix:\n",
    "\n",
    "Turn function into partial object before putting it into the workflow"
   ]
  },
  {
   "cell_type": "code",
   "execution_count": null,
   "id": "a0d71492",
   "metadata": {},
   "outputs": [],
   "source": [
    "w = Workflow()\n",
    "\n",
    "# define segmentation\n",
    "def threshold(image: ImageData, value: float = 1) -> ImageData:\n",
    "    return image > value\n",
    "\n",
    "def add(imageA: ImageData, imageB:ImageData) -> ImageData:\n",
    "    return imageA + imageB\n",
    "\n",
    "def blur(image: ImageData, sigma: float=2):\n",
    "    return gaussian(image, sigma=sigma)\n",
    "\n",
    "kwargs = {'sigma': 5}\n",
    "\n",
    "_blur = partial(blur, **kwargs)\n",
    "\n",
    "w.set('blurring', _blur, 'input', **kwargs)\n",
    "w.set('binarization', threshold, 'blurring')\n",
    "\n",
    "\n",
    "with open('workflow.yaml', 'w') as f:\n",
    "    yaml.dump(w, f)"
   ]
  },
  {
   "cell_type": "code",
   "execution_count": null,
   "id": "b2cd64e5",
   "metadata": {},
   "outputs": [],
   "source": [
    "with open(\"workflow.yaml\", \"rb\") as stream:\n",
    "    w=yaml.unsafe_load(stream)\n",
    "    \n",
    "w._tasks"
   ]
  },
  {
   "cell_type": "code",
   "execution_count": null,
   "id": "374448a5",
   "metadata": {},
   "outputs": [],
   "source": [
    "viewer = napari.Viewer()\n",
    "steps = w._tasks.keys()\n",
    "\n",
    "for key in w._tasks.keys():\n",
    "    func = w._tasks[key][0]\n",
    "    widget = magicgui.magicgui(func)\n",
    "    viewer.window.add_dock_widget(widget)"
   ]
  },
  {
   "cell_type": "markdown",
   "id": "20e0a71a",
   "metadata": {},
   "source": [
    "### Second fix:\n",
    "Turn function into partial object after loading it"
   ]
  },
  {
   "cell_type": "code",
   "execution_count": null,
   "id": "92cbfc53",
   "metadata": {},
   "outputs": [],
   "source": [
    "w = Workflow()\n",
    "w.set('blurring', blur, 'input', **kwargs)\n",
    "w.set('binarization', threshold, 'blurring')\n",
    "\n",
    "with open('_workflow.yaml', 'w') as f:\n",
    "    yaml.dump(w, f)"
   ]
  },
  {
   "cell_type": "code",
   "execution_count": null,
   "id": "183efeb8",
   "metadata": {},
   "outputs": [],
   "source": [
    "with open(\"_workflow.yaml\", \"rb\") as stream:\n",
    "    w=yaml.unsafe_load(stream)\n",
    "    \n",
    "w._tasks"
   ]
  },
  {
   "cell_type": "code",
   "execution_count": null,
   "id": "22a85eec",
   "metadata": {},
   "outputs": [],
   "source": [
    "viewer = napari.Viewer()\n",
    "\n",
    "for task in w._tasks.keys():\n",
    "    func = w._tasks[task][0]  # extract function from workflow\n",
    "    keyword_list = list(inspect.signature(func).parameters.keys())  # get name of kwargs\n",
    "    \n",
    "    # We need to retrieve a dictionary with parameter: value from the saved function\n",
    "    kw_dict = {}\n",
    "    for kw, val in zip(keyword_list, w._tasks[task][1:]):\n",
    "        kw_dict[kw] = val\n",
    "    kw_dict.pop('image')\n",
    "    \n",
    "    func = partial(w._tasks[task][0], **kw_dict)\n",
    "    \n",
    "    widget = make_gui(func, viewer)\n",
    "    viewer.window.add_dock_widget(widget)"
   ]
  }
 ],
 "metadata": {
  "kernelspec": {
   "display_name": "Python 3 (ipykernel)",
   "language": "python",
   "name": "python3"
  },
  "language_info": {
   "codemirror_mode": {
    "name": "ipython",
    "version": 3
   },
   "file_extension": ".py",
   "mimetype": "text/x-python",
   "name": "python",
   "nbconvert_exporter": "python",
   "pygments_lexer": "ipython3",
   "version": "3.9.7"
  }
 },
 "nbformat": 4,
 "nbformat_minor": 5
}
