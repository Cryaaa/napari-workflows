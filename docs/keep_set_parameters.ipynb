{
 "cells": [
  {
   "cell_type": "markdown",
   "id": "20623a84",
   "metadata": {},
   "source": [
    "# How to save parameters along with the function \n",
    "\n",
    "This is a workaround for the problem of how to save *and restore* the parameters of a workflow (e.g., sigma for blurring, threshold values, etc) along with the functions. The idea is simple:\n",
    "\n",
    "Instead of setting workflow steps with, for instance, `w.set('blurring', blur_function, 'input', sigma=5)`, this notebook creates a partial function of `blur_function()` which is then added to the workflow. When the workflow is loaded and the partial function is passed to magicgui, the parameters are restored correctly."
   ]
  },
  {
   "cell_type": "code",
   "execution_count": 1,
   "id": "4ab163d4",
   "metadata": {},
   "outputs": [],
   "source": [
    "from napari_workflows import Workflow\n",
    "from napari.types import ImageData\n",
    "import napari\n",
    "import yaml\n",
    "from skimage.filters import threshold_otsu, gaussian\n",
    "\n",
    "import inspect\n",
    "import magicgui\n",
    "from functools import partial\n",
    "from napari_tools_menu import make_gui"
   ]
  },
  {
   "cell_type": "markdown",
   "id": "8020008e",
   "metadata": {},
   "source": [
    "### First fix:\n",
    "\n",
    "Turn function into partial object before putting it into the workflow"
   ]
  },
  {
   "cell_type": "code",
   "execution_count": 2,
   "id": "4f5f69c9",
   "metadata": {},
   "outputs": [],
   "source": [
    "w = Workflow()\n",
    "\n",
    "# define segmentation\n",
    "def threshold(image: ImageData, value: float = 1) -> ImageData:\n",
    "    return image > value\n",
    "\n",
    "def add(imageA: ImageData, imageB:ImageData) -> ImageData:\n",
    "    return imageA + imageB\n",
    "\n",
    "def blur(image: ImageData, sigma: float=2) -> ImageData:\n",
    "    return gaussian(image, sigma=sigma)\n",
    "\n",
    "kwargs = {'sigma': 5}\n",
    "\n",
    "_blur = partial(blur, **kwargs)\n",
    "\n",
    "w.set('blurring', _blur, 'input', **kwargs)\n",
    "w.set('binarization', threshold, 'blurring')\n",
    "\n",
    "\n",
    "with open('workflow.yaml', 'w') as f:\n",
    "    yaml.dump(w, f)"
   ]
  },
  {
   "cell_type": "code",
   "execution_count": 3,
   "id": "3dd3e1e9",
   "metadata": {},
   "outputs": [
    {
     "data": {
      "text/plain": [
       "{'binarization': (<function __main__.threshold(image: <function NewType.<locals>.new_type at 0x0000017C68F5F9D0>, value: float = 1) -> <function NewType.<locals>.new_type at 0x0000017C68F5F9D0>>,\n",
       "  'blurring',\n",
       "  1),\n",
       " 'blurring': (functools.partial(<function blur at 0x0000017C6BA12160>, sigma=5),\n",
       "  'input',\n",
       "  5)}"
      ]
     },
     "execution_count": 3,
     "metadata": {},
     "output_type": "execute_result"
    }
   ],
   "source": [
    "with open(\"workflow.yaml\", \"rb\") as stream:\n",
    "    w=yaml.unsafe_load(stream)\n",
    "    \n",
    "w._tasks"
   ]
  },
  {
   "cell_type": "code",
   "execution_count": 4,
   "id": "727a5b08",
   "metadata": {},
   "outputs": [
    {
     "name": "stdout",
     "output_type": "stream",
     "text": [
      "Warning: Could not find scikit-tensor which is needed for separable approximations...\n",
      "If you want to compute separable approximations, please install it with\n",
      "pip install scikit-tensor-py3\n"
     ]
    }
   ],
   "source": [
    "viewer = napari.Viewer()\n",
    "steps = w._tasks.keys()\n",
    "\n",
    "for key in w._tasks.keys():\n",
    "    func = w._tasks[key][0]\n",
    "    widget = magicgui.magicgui(func)\n",
    "    viewer.window.add_dock_widget(widget)"
   ]
  },
  {
   "cell_type": "markdown",
   "id": "6a3f1031",
   "metadata": {},
   "source": [
    "### Second fix:\n",
    "Turn function into partial object after loading it"
   ]
  },
  {
   "cell_type": "code",
   "execution_count": 5,
   "id": "50edeee4",
   "metadata": {},
   "outputs": [],
   "source": [
    "w = Workflow()\n",
    "w.set('blurring', blur, 'input', **kwargs)\n",
    "w.set('binarization', threshold, 'blurring')\n",
    "\n",
    "with open('_workflow.yaml', 'w') as f:\n",
    "    yaml.dump(w, f)"
   ]
  },
  {
   "cell_type": "code",
   "execution_count": 6,
   "id": "1af31268",
   "metadata": {},
   "outputs": [
    {
     "data": {
      "text/plain": [
       "{'binarization': (<function __main__.threshold(image: <function NewType.<locals>.new_type at 0x0000017C68F5F9D0>, value: float = 1) -> <function NewType.<locals>.new_type at 0x0000017C68F5F9D0>>,\n",
       "  'blurring',\n",
       "  1),\n",
       " 'blurring': (<function __main__.blur(image: <function NewType.<locals>.new_type at 0x0000017C68F5F9D0>, sigma: float = 2) -> <function NewType.<locals>.new_type at 0x0000017C68F5F9D0>>,\n",
       "  'input',\n",
       "  5)}"
      ]
     },
     "execution_count": 6,
     "metadata": {},
     "output_type": "execute_result"
    }
   ],
   "source": [
    "with open(\"_workflow.yaml\", \"rb\") as stream:\n",
    "    w=yaml.unsafe_load(stream)\n",
    "    \n",
    "w._tasks"
   ]
  },
  {
   "cell_type": "code",
   "execution_count": 7,
   "id": "365671b1",
   "metadata": {},
   "outputs": [],
   "source": [
    "viewer = napari.Viewer()\n",
    "\n",
    "for task in w._tasks.keys():\n",
    "    func = w._tasks[task][0]  # extract function from workflow\n",
    "    keyword_list = list(inspect.signature(func).parameters.keys())  # get name of kwargs\n",
    "    \n",
    "    # We need to retrieve a dictionary with parameter: value from the saved function\n",
    "    kw_dict = {}\n",
    "    for kw, val in zip(keyword_list, w._tasks[task][1:]):\n",
    "        kw_dict[kw] = val\n",
    "    kw_dict.pop('image')\n",
    "    \n",
    "    func = partial(w._tasks[task][0], **kw_dict)\n",
    "    \n",
    "    widget = magicgui.magicgui(func)\n",
    "    viewer.window.add_dock_widget(widget)"
   ]
  },
  {
   "cell_type": "markdown",
   "id": "866d30a1",
   "metadata": {},
   "source": [
    "Now test whether it's actually possible to add an image as ainput and collect the output"
   ]
  },
  {
   "cell_type": "code",
   "execution_count": 8,
   "id": "55cba065",
   "metadata": {},
   "outputs": [],
   "source": [
    "viewer = napari.Viewer()\n",
    "filename = r'C:/Users/johan/Desktop/blobs.tif'\n",
    "viewer.open(filename)\n",
    "image = viewer.layers[0].data"
   ]
  },
  {
   "cell_type": "code",
   "execution_count": 9,
   "id": "1bf91dd5",
   "metadata": {},
   "outputs": [
    {
     "data": {
      "text/plain": [
       "FullArgSpec(args=['image', 'sigma'], varargs=None, varkw=None, defaults=(2,), kwonlyargs=[], kwonlydefaults=None, annotations={'return': <function NewType.<locals>.new_type at 0x0000017C68F5F9D0>, 'image': <function NewType.<locals>.new_type at 0x0000017C68F5F9D0>, 'sigma': <class 'float'>})"
      ]
     },
     "execution_count": 9,
     "metadata": {},
     "output_type": "execute_result"
    }
   ],
   "source": [
    "inspect.getfullargspec(func.func)"
   ]
  },
  {
   "cell_type": "markdown",
   "id": "805ba8f9",
   "metadata": {},
   "source": [
    "### Third fix:\n",
    "Get function from workflow file and change its default parameters settings by changing `func.__defaults__`:"
   ]
  },
  {
   "cell_type": "code",
   "execution_count": 10,
   "id": "6473dacc",
   "metadata": {},
   "outputs": [
    {
     "name": "stdout",
     "output_type": "stream",
     "text": [
      "(2,)\n"
     ]
    }
   ],
   "source": [
    "print(func.func.__defaults__)"
   ]
  },
  {
   "cell_type": "code",
   "execution_count": 11,
   "id": "1ab37fe6",
   "metadata": {},
   "outputs": [],
   "source": [
    "for task in w._tasks.keys():\n",
    "    func = w._tasks[task][0]  # extract function from workflow\n",
    "    keyword_list = list(inspect.signature(func).parameters.keys())  # get name of kwargs\n",
    "    \n",
    "    # retrieve keyword - saved value dictionary from saved workflow\n",
    "    kw_dict = {}\n",
    "    for kw, val in zip(keyword_list, w._tasks[task][1:]):\n",
    "        kw_dict[kw] = val\n",
    "    kw_dict.pop('image')\n",
    "    \n",
    "    # change defaults of restored function and add to viewer\n",
    "    defaults = ()\n",
    "    for key in kw_dict.keys():\n",
    "        defaults += tuple([kw_dict[key]])\n",
    "    \n",
    "    func.__defaults__ = defaults\n",
    "    widget = magicgui.magicgui(func)\n",
    "    \n",
    "    viewer.window.add_dock_widget(widget)    "
   ]
  }
 ],
 "metadata": {
  "kernelspec": {
   "display_name": "Python 3 (ipykernel)",
   "language": "python",
   "name": "python3"
  },
  "language_info": {
   "codemirror_mode": {
    "name": "ipython",
    "version": 3
   },
   "file_extension": ".py",
   "mimetype": "text/x-python",
   "name": "python",
   "nbconvert_exporter": "python",
   "pygments_lexer": "ipython3",
   "version": "3.9.7"
  }
 },
 "nbformat": 4,
 "nbformat_minor": 5
}
