{
 "cells": [
  {
   "cell_type": "markdown",
   "id": "a629216a",
   "metadata": {},
   "source": [
    "# How to save parameters along with the function \n",
    "\n",
    "This is a workaround for the problem of how to save *and restore* the parameters of a workflow (e.g., sigma for blurring, threshold values, etc) along with the functions. The idea is simple:\n",
    "\n",
    "Instead of setting workflow steps with, for instance, `w.set('blurring', blur_function, 'input', sigma=5)`, this notebook creates a partial function of `blur_function()` which is then added to the workflow. When the workflow is loaded and the partial function is passed to magicgui, the parameters are restored correctly."
   ]
  },
  {
   "cell_type": "code",
   "execution_count": 1,
   "id": "37ef4d70",
   "metadata": {},
   "outputs": [],
   "source": [
    "from napari_workflows import Workflow\n",
    "from napari.types import ImageData\n",
    "import napari\n",
    "import yaml\n",
    "from skimage.filters import threshold_otsu, gaussian\n",
    "\n",
    "import inspect\n",
    "import magicgui\n",
    "from functools import partial\n",
    "from napari_tools_menu import make_gui"
   ]
  },
  {
   "cell_type": "markdown",
   "id": "51fa983e",
   "metadata": {},
   "source": [
    "### First fix:\n",
    "\n",
    "Turn function into partial object before putting it into the workflow"
   ]
  },
  {
   "cell_type": "code",
   "execution_count": 12,
   "id": "52a11333",
   "metadata": {},
   "outputs": [],
   "source": [
    "filename = r'C:/Users/johan/Desktop/blobs.tif'"
   ]
  },
  {
   "cell_type": "code",
   "execution_count": null,
   "id": "07c60d5d",
   "metadata": {},
   "outputs": [],
   "source": [
    "# define segmentation\n",
    "def threshold(image: ImageData, value: float = 128) -> ImageData:\n",
    "    return image > value\n",
    "\n",
    "def add(imageA: ImageData, imageB:ImageData) -> ImageData:\n",
    "    return imageA + imageB\n",
    "\n",
    "def blur(image: ImageData, sigma: float=2) -> ImageData:\n",
    "    return gaussian(image, sigma=sigma)"
   ]
  },
  {
   "cell_type": "markdown",
   "id": "1e3e082a",
   "metadata": {},
   "source": [
    "Create a workflow from the above frunctions"
   ]
  },
  {
   "cell_type": "code",
   "execution_count": 29,
   "id": "99fc58a8",
   "metadata": {},
   "outputs": [],
   "source": [
    "kwargs = {'sigma': 5}\n",
    "\n",
    "_blur = partial(blur, **kwargs)\n",
    "\n",
    "w = Workflow()\n",
    "w.set('blurring', _blur, 'input', **kwargs)\n",
    "w.set('binarization', threshold, 'blurring')"
   ]
  },
  {
   "cell_type": "markdown",
   "id": "389ca75f",
   "metadata": {},
   "source": [
    "Save and reload workflow"
   ]
  },
  {
   "cell_type": "code",
   "execution_count": 31,
   "id": "2e4e4004",
   "metadata": {},
   "outputs": [
    {
     "data": {
      "text/plain": [
       "{'binarization': (<function __main__.threshold(image: <function NewType.<locals>.new_type at 0x0000017C68F5F9D0>, value: float = 1) -> <function NewType.<locals>.new_type at 0x0000017C68F5F9D0>>,\n",
       "  'blurring',\n",
       "  1),\n",
       " 'blurring': (functools.partial(<function blur at 0x0000017C132B79D0>, sigma=5),\n",
       "  'input',\n",
       "  5)}"
      ]
     },
     "execution_count": 31,
     "metadata": {},
     "output_type": "execute_result"
    }
   ],
   "source": [
    "with open('workflow.yaml', 'w') as f:\n",
    "    yaml.dump(w, f)\n",
    "    \n",
    "with open(\"workflow.yaml\", \"rb\") as stream:\n",
    "    w=yaml.unsafe_load(stream)\n",
    "    \n",
    "w._tasks"
   ]
  },
  {
   "cell_type": "markdown",
   "id": "bbeeb845",
   "metadata": {},
   "source": [
    "Result: The created widgets are executable and the parameters a re correctly passed to the passed function (which is a bit surprising as partial functions have the preset parameters hardcoded in their scope...)"
   ]
  },
  {
   "cell_type": "code",
   "execution_count": 35,
   "id": "7c952fbc",
   "metadata": {},
   "outputs": [],
   "source": [
    "viewer = napari.Viewer()\n",
    "viewer.open(filename)\n",
    "\n",
    "steps = w._tasks.keys()\n",
    "for key in w._tasks.keys():\n",
    "    func = w._tasks[key][0]\n",
    "    widget = magicgui.magicgui(func)\n",
    "    viewer.window.add_dock_widget(widget)"
   ]
  },
  {
   "cell_type": "markdown",
   "id": "d7b889d9",
   "metadata": {},
   "source": [
    "### Second fix:\n",
    "Turn function into partial object after loading it"
   ]
  },
  {
   "cell_type": "code",
   "execution_count": null,
   "id": "689de6a0",
   "metadata": {},
   "outputs": [],
   "source": [
    "w = Workflow()\n",
    "w.set('blurring', blur, 'input', **kwargs)\n",
    "w.set('binarization', threshold, 'blurring')"
   ]
  },
  {
   "cell_type": "code",
   "execution_count": 37,
   "id": "750e07eb",
   "metadata": {},
   "outputs": [
    {
     "data": {
      "text/plain": [
       "{'binarization': (<function __main__.threshold(image: <function NewType.<locals>.new_type at 0x0000017C68F5F9D0>, value: float = 1) -> <function NewType.<locals>.new_type at 0x0000017C68F5F9D0>>,\n",
       "  'blurring',\n",
       "  1),\n",
       " 'blurring': (<function __main__.blur(image: <function NewType.<locals>.new_type at 0x0000017C68F5F9D0>, sigma: float = 2) -> <function NewType.<locals>.new_type at 0x0000017C68F5F9D0>>,\n",
       "  'input',\n",
       "  5)}"
      ]
     },
     "execution_count": 37,
     "metadata": {},
     "output_type": "execute_result"
    }
   ],
   "source": [
    "with open('_workflow.yaml', 'w') as f:\n",
    "    yaml.dump(w, f)\n",
    "    \n",
    "with open(\"_workflow.yaml\", \"rb\") as stream:\n",
    "    w=yaml.unsafe_load(stream)\n",
    "    \n",
    "w._tasks"
   ]
  },
  {
   "cell_type": "markdown",
   "id": "78428092",
   "metadata": {},
   "source": [
    "Similar solution as first fix, but partialising the function is done after restoring it from the workflow file and before passing it to magicgui."
   ]
  },
  {
   "cell_type": "code",
   "execution_count": 40,
   "id": "5ce6eb05",
   "metadata": {},
   "outputs": [],
   "source": [
    "viewer = napari.Viewer()\n",
    "viewer.open(filename)\n",
    "\n",
    "for task in w._tasks.keys():\n",
    "    func = w._tasks[task][0]  # extract function from workflow\n",
    "    keyword_list = list(inspect.signature(func).parameters.keys())  # get name of kwargs\n",
    "    \n",
    "    # We need to retrieve a dictionary with parameter: value from the saved function\n",
    "    kw_dict = {}\n",
    "    for kw, val in zip(keyword_list, w._tasks[task][1:]):\n",
    "        kw_dict[kw] = val\n",
    "    kw_dict.pop('image')\n",
    "    \n",
    "    func = partial(w._tasks[task][0], **kw_dict)\n",
    "    \n",
    "    widget = magicgui.magicgui(func, auto_call=True)\n",
    "    viewer.window.add_dock_widget(widget)"
   ]
  },
  {
   "cell_type": "markdown",
   "id": "225e18bd",
   "metadata": {},
   "source": [
    "### Third fix:\n",
    "Get function from workflow file and change its default parameters settings by changing `func.__defaults__`:"
   ]
  },
  {
   "cell_type": "code",
   "execution_count": 41,
   "id": "0fcbc86f",
   "metadata": {},
   "outputs": [
    {
     "data": {
      "text/plain": [
       "[<Image layer 'blobs' at 0x17c14e4ab80>]"
      ]
     },
     "execution_count": 41,
     "metadata": {},
     "output_type": "execute_result"
    }
   ],
   "source": [
    "viewer = napari.Viewer()\n",
    "viewer.open(filename)"
   ]
  },
  {
   "cell_type": "code",
   "execution_count": 42,
   "id": "c5e8c6a0",
   "metadata": {},
   "outputs": [],
   "source": [
    "for task in w._tasks.keys():\n",
    "    func = w._tasks[task][0]  # extract function from workflow\n",
    "    keyword_list = list(inspect.signature(func).parameters.keys())  # get name of kwargs\n",
    "    \n",
    "    # retrieve keyword - saved value dictionary from saved workflow\n",
    "    kw_dict = {}\n",
    "    for kw, val in zip(keyword_list, w._tasks[task][1:]):\n",
    "        kw_dict[kw] = val\n",
    "    kw_dict.pop('image')\n",
    "    \n",
    "    # change defaults of restored function and add to viewer\n",
    "    defaults = ()\n",
    "    for key in kw_dict.keys():\n",
    "        defaults += tuple([kw_dict[key]])\n",
    "    \n",
    "    func.__defaults__ = defaults\n",
    "    widget = make_gui(func, viewer)\n",
    "    \n",
    "    viewer.window.add_dock_widget(widget)    "
   ]
  },
  {
   "cell_type": "code",
   "execution_count": 22,
   "id": "5c487dad",
   "metadata": {},
   "outputs": [
    {
     "data": {
      "text/plain": [
       "functools.partial(<function blur at 0x0000017C6BA120D0>, sigma=5)"
      ]
     },
     "execution_count": 22,
     "metadata": {},
     "output_type": "execute_result"
    }
   ],
   "source": [
    "func"
   ]
  },
  {
   "cell_type": "code",
   "execution_count": null,
   "id": "513accfe",
   "metadata": {},
   "outputs": [],
   "source": []
  }
 ],
 "metadata": {
  "kernelspec": {
   "display_name": "Python 3 (ipykernel)",
   "language": "python",
   "name": "python3"
  },
  "language_info": {
   "codemirror_mode": {
    "name": "ipython",
    "version": 3
   },
   "file_extension": ".py",
   "mimetype": "text/x-python",
   "name": "python",
   "nbconvert_exporter": "python",
   "pygments_lexer": "ipython3",
   "version": "3.9.7"
  }
 },
 "nbformat": 4,
 "nbformat_minor": 5
}
