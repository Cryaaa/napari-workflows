{
 "cells": [
  {
   "cell_type": "code",
   "execution_count": 1,
   "id": "0a1f913f",
   "metadata": {},
   "outputs": [],
   "source": [
    "import napari\n",
    "import napari_workflows as nw\n",
    "from napari_workflows import Workflow\n",
    "from skimage.io import imread\n",
    "import inspect\n",
    "import magicgui\n",
    "from napari_workflows._napari_loading import *\n",
    "\n",
    "file_name = r'C:/Users/ryans/Desktop/blobs.tif'\n",
    "blobs = imread(file_name)"
   ]
  },
  {
   "cell_type": "code",
   "execution_count": 2,
   "id": "c539af94",
   "metadata": {},
   "outputs": [
    {
     "name": "stdout",
     "output_type": "stream",
     "text": [
      "Workflow:\n",
      "Result of Connected component labeling (scikit-image, nsbatwm) <- (<function connected_component_labeling at 0x0000022612951F30>, 'Result of Expand labels (scikit-image, nsbatwm)', False)\n",
      "Result of Expand labels (scikit-image, nsbatwm) <- (<function expand_labels at 0x0000022612952200>, 'Result of Threshold (Li et al 1993, scikit-image, nsbatwm)', 4.0)\n",
      "Result of Gaussian (scikit-image, nsbatwm) <- (<function gaussian_blur at 0x00000226129512D0>, 'blobs', 4.0)\n",
      "Result of Percentile (scipy, nsbatwm) <- (<function percentile_filter at 0x0000022612951630>, 'Result of Gaussian (scikit-image, nsbatwm)', 2.0, 4.0)\n",
      "Result of Threshold (Li et al 1993, scikit-image, nsbatwm) <- (<function threshold_li at 0x0000022612950DC0>, 'Result of Percentile (scipy, nsbatwm)')\n",
      "\n"
     ]
    }
   ],
   "source": [
    "from napari_workflows._io_yaml_v1 import load_workflow, save_workflow        \n",
    "filename = 'workflow from napari.yaml'\n",
    "\n",
    "workflow = load_workflow(filename)\n",
    "print(workflow)"
   ]
  },
  {
   "cell_type": "code",
   "execution_count": 3,
   "id": "1b8bbab3",
   "metadata": {},
   "outputs": [
    {
     "data": {
      "text/plain": [
       "{'Result of Connected component labeling (scikit-image, nsbatwm)': 'connected_component_labeling result',\n",
       " 'Result of Expand labels (scikit-image, nsbatwm)': 'expand_labels result',\n",
       " 'Result of Gaussian (scikit-image, nsbatwm)': 'gaussian_blur result',\n",
       " 'Result of Percentile (scipy, nsbatwm)': 'percentile_filter result',\n",
       " 'Result of Threshold (Li et al 1993, scikit-image, nsbatwm)': 'threshold_li result'}"
      ]
     },
     "execution_count": 3,
     "metadata": {},
     "output_type": "execute_result"
    }
   ],
   "source": [
    "old_to_new_name_mapping = old_wf_names_to_new_mapping(workflow)\n",
    "old_to_new_name_mapping"
   ]
  },
  {
   "cell_type": "code",
   "execution_count": 6,
   "id": "0cc9a1b0",
   "metadata": {},
   "outputs": [
    {
     "name": "stderr",
     "output_type": "stream",
     "text": [
      "C:\\Users\\ryans\\anaconda3\\envs\\np_workflows_v1\\lib\\site-packages\\napari_tools_menu\\__init__.py:165: FutureWarning: Public access to Window.qt_viewer is deprecated and will be removed in\n",
      "v0.5.0. It is considered an \"implementation detail\" of the napari\n",
      "application, not part of the napari viewer model. If your use case\n",
      "requires access to qt_viewer, please open an issue to discuss.\n",
      "  self.tools_menu = ToolsMenu(self, self.qt_viewer.viewer)\n"
     ]
    }
   ],
   "source": [
    "def initialise_root_functions(workflow, viewer):\n",
    "    root_functions = wf_steps_with_root_as_input(workflow)\n",
    "    \n",
    "    for i, wf_step_name in enumerate(root_functions):\n",
    "        func = workflow._tasks[wf_step_name][0]\n",
    "        args = workflow._tasks[wf_step_name][1:] \n",
    "\n",
    "        signat = signature_w_kwargs_from_function(func, args)\n",
    "        func.__signature__ = signat\n",
    "\n",
    "        widget = make_flexible_gui(func, viewer, autocall = True)\n",
    "        viewer3.window.add_dock_widget(widget)\n",
    "\n",
    "viewer3 = napari.Viewer()\n",
    "viewer3.add_image(blobs)\n",
    "initialise_root_functions(workflow,viewer3)"
   ]
  },
  {
   "cell_type": "code",
   "execution_count": 5,
   "id": "31eb4859",
   "metadata": {},
   "outputs": [],
   "source": [
    "def load_remaining_workflow(workflow, viewer, name_mapping, root_functions):\n",
    "    root_functions = wf_steps_with_root_as_input(workflow)\n",
    "    layers = viewer.layers\n",
    "    \n",
    "    for root in root_functions:\n",
    "        followers = workflow.followers_of(root)\n",
    "\n",
    "        for follower in followers:\n",
    "            layer_names = [str(lay) for lay in layers]\n",
    "            sources = workflow.sources_of(follower)\n",
    "            for source in sources:\n",
    "                if old_to_new_name_mapping[source] not in layer_names:\n",
    "                    root_functions.append(root)\n",
    "                    break\n",
    "                else:\n",
    "                    source = sources[0]\n",
    "\n",
    "\n",
    "                    func = workflow._tasks[follower][0]\n",
    "                    args = workflow._tasks[follower][1:]\n",
    "\n",
    "                    signat = signature_w_kwargs_from_function(func, args)\n",
    "                    func.__signature__ = signat\n",
    "\n",
    "                    widget = make_flexible_gui(func, viewer3)\n",
    "                    viewer.window.add_dock_widget(widget, name = func.__name__)\n",
    "\n",
    "                    set_choices(workflow= workflow,\n",
    "                                wf_step= follower,\n",
    "                                viewer= viewer,\n",
    "                                widget= widget,\n",
    "                                old_wf_names_to_new_mapping= name_mapping)\n",
    "\n",
    "                    widget(layers[name_mapping[source]].data)\n",
    "\n",
    "                    new_follower = workflow.followers_of(follower)\n",
    "                    followers += new_follower\n",
    "\n",
    "load_remaining_workflow(workflow, viewer3)"
   ]
  },
  {
   "cell_type": "code",
   "execution_count": 6,
   "id": "96590bfc",
   "metadata": {},
   "outputs": [],
   "source": []
  }
 ],
 "metadata": {
  "kernelspec": {
   "display_name": "Python 3 (ipykernel)",
   "language": "python",
   "name": "python3"
  },
  "language_info": {
   "codemirror_mode": {
    "name": "ipython",
    "version": 3
   },
   "file_extension": ".py",
   "mimetype": "text/x-python",
   "name": "python",
   "nbconvert_exporter": "python",
   "pygments_lexer": "ipython3",
   "version": "3.10.2"
  }
 },
 "nbformat": 4,
 "nbformat_minor": 5
}
