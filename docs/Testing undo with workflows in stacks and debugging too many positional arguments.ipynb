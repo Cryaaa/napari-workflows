{
 "cells": [
  {
   "cell_type": "markdown",
   "id": "2067080b",
   "metadata": {},
   "source": [
    "To be able to do proper tests I need to be able to reproduce these bugs from code. This means I need add a noise removal step, undo adding the step and then add another noise removal step with the assistant from code:"
   ]
  },
  {
   "cell_type": "code",
   "execution_count": 1,
   "id": "73215779",
   "metadata": {},
   "outputs": [
    {
     "name": "stderr",
     "output_type": "stream",
     "text": [
      "C:\\Users\\ryans\\anaconda3\\envs\\np_workflows_v1\\lib\\site-packages\\napari_tools_menu\\__init__.py:165: FutureWarning: Public access to Window.qt_viewer is deprecated and will be removed in\n",
      "v0.5.0. It is considered an \"implementation detail\" of the napari\n",
      "application, not part of the napari viewer model. If your use case\n",
      "requires access to qt_viewer, please open an issue to discuss.\n",
      "  self.tools_menu = ToolsMenu(self, self.qt_viewer.viewer)\n"
     ]
    },
    {
     "data": {
      "text/plain": [
       "<Image layer 'blobs' at 0x12e45d5e4d0>"
      ]
     },
     "execution_count": 1,
     "metadata": {},
     "output_type": "execute_result"
    }
   ],
   "source": [
    "import napari\n",
    "from napari_assistant._gui._Assistant import Assistant\n",
    "from skimage.io import imread\n",
    "from napari_assistant._categories import CATEGORIES\n",
    "\n",
    "filename = 'C:/Users/ryans/OneDrive/Desktop/blobs.tif'\n",
    "blobs = imread(filename)\n",
    "\n",
    "viewer = napari.Viewer()\n",
    "viewer.add_image(blobs)"
   ]
  },
  {
   "cell_type": "code",
   "execution_count": 2,
   "id": "c957e761",
   "metadata": {},
   "outputs": [
    {
     "name": "stdout",
     "output_type": "stream",
     "text": [
      "call op kwargs: {'x': 1.0, 'y': 1.0, 'z': 0.0, 'u': 0.0, 'v': 0.0, 'w': 0.0, 'a': False, 'b': False, 'c': False, 'k': '', 'l': '', 'm': ''}\n",
      "args sent to workflow manager from category widget: [array([[ 40,  32,  24, ..., 216, 200, 200],\n",
      "       [ 56,  40,  24, ..., 232, 216, 216],\n",
      "       [ 64,  48,  24, ..., 240, 232, 232],\n",
      "       ...,\n",
      "       [ 72,  80,  80, ...,  48,  48,  48],\n",
      "       [ 80,  80,  80, ...,  48,  48,  48],\n",
      "       [ 96,  88,  80, ...,  48,  48,  48]], dtype=uint8), 1.0]\n",
      "set workflow step: Result of Gaussian (scikit-image, nsbatwm)\n",
      "     args: ['blobs', 1.0]\n",
      "   kwargs: {}\n",
      "signature: (image: napari.types.ImageData, sigma: float = 1, viewer: napari.viewer.Viewer = None) -> napari.types.ImageData\n"
     ]
    }
   ],
   "source": [
    "assistant = Assistant(viewer)\n",
    "viewer.window.add_dock_widget(assistant)\n",
    "assistant.search_field.setText('nsb')\n",
    "widget = assistant._activate(CATEGORIES.get(\"Remove noise\"))"
   ]
  },
  {
   "cell_type": "code",
   "execution_count": 3,
   "id": "0df143c5-0143-4ff4-a469-505344df7eda",
   "metadata": {},
   "outputs": [
    {
     "name": "stdout",
     "output_type": "stream",
     "text": [
      "call op kwargs: {'x': 4.0, 'y': 1.0, 'z': 0.0, 'u': 0.0, 'v': 0.0, 'w': 0.0, 'a': False, 'b': False, 'c': False, 'k': '', 'l': '', 'm': ''}\n",
      "args sent to workflow manager from category widget: [array([[ 40,  32,  24, ..., 216, 200, 200],\n",
      "       [ 56,  40,  24, ..., 232, 216, 216],\n",
      "       [ 64,  48,  24, ..., 240, 232, 232],\n",
      "       ...,\n",
      "       [ 72,  80,  80, ...,  48,  48,  48],\n",
      "       [ 80,  80,  80, ...,  48,  48,  48],\n",
      "       [ 96,  88,  80, ...,  48,  48,  48]], dtype=uint8), 4.0]\n",
      "set workflow step: Result of Gaussian (scikit-image, nsbatwm)\n",
      "     args: ['blobs', 4.0]\n",
      "   kwargs: {}\n",
      "signature: (image: napari.types.ImageData, sigma: float = 1, viewer: napari.viewer.Viewer = None) -> napari.types.ImageData\n"
     ]
    }
   ],
   "source": [
    "sigma = widget[2]\n",
    "sigma.value = 4"
   ]
  },
  {
   "cell_type": "code",
   "execution_count": 4,
   "id": "a6bb264b-a9c6-44ed-9cab-cf5def705db5",
   "metadata": {},
   "outputs": [
    {
     "name": "stdout",
     "output_type": "stream",
     "text": [
      "call op kwargs: {'x': 8.0, 'y': 1.0, 'z': 0.0, 'u': 0.0, 'v': 0.0, 'w': 0.0, 'a': False, 'b': False, 'c': False, 'k': '', 'l': '', 'm': ''}\n",
      "args sent to workflow manager from category widget: [array([[ 40,  32,  24, ..., 216, 200, 200],\n",
      "       [ 56,  40,  24, ..., 232, 216, 216],\n",
      "       [ 64,  48,  24, ..., 240, 232, 232],\n",
      "       ...,\n",
      "       [ 72,  80,  80, ...,  48,  48,  48],\n",
      "       [ 80,  80,  80, ...,  48,  48,  48],\n",
      "       [ 96,  88,  80, ...,  48,  48,  48]], dtype=uint8), 8.0]\n",
      "set workflow step: Result of Gaussian (scikit-image, nsbatwm)\n",
      "     args: ['blobs', 8.0]\n",
      "   kwargs: {}\n",
      "signature: (image: napari.types.ImageData, sigma: float = 1, viewer: napari.viewer.Viewer = None) -> napari.types.ImageData\n"
     ]
    }
   ],
   "source": [
    "sigma.value = 8"
   ]
  },
  {
   "cell_type": "code",
   "execution_count": 5,
   "id": "08e120df",
   "metadata": {},
   "outputs": [],
   "source": [
    "from napari_workflows import WorkflowManager\n",
    "manager = WorkflowManager.install(viewer)"
   ]
  },
  {
   "cell_type": "code",
   "execution_count": 6,
   "id": "b575d29b",
   "metadata": {},
   "outputs": [
    {
     "name": "stdout",
     "output_type": "stream",
     "text": [
      "Workflow:\n",
      "Result of Gaussian (scikit-image, nsbatwm) <- (<function gaussian_blur at 0x0000012E757CCB80>, 'blobs', 8.0)\n",
      "\n"
     ]
    }
   ],
   "source": [
    "print(manager.workflow)"
   ]
  },
  {
   "cell_type": "code",
   "execution_count": 7,
   "id": "907235f8",
   "metadata": {},
   "outputs": [
    {
     "name": "stdout",
     "output_type": "stream",
     "text": [
      "Workflow:\n",
      "\n",
      "Workflow:\n",
      "Result of Gaussian (scikit-image, nsbatwm) <- (<function gaussian_blur at 0x0000012E757CCB80>, 'blobs', 1.0)\n",
      "\n",
      "Workflow:\n",
      "Result of Gaussian (scikit-image, nsbatwm) <- (<function gaussian_blur at 0x0000012E757CCB80>, 'blobs', 4.0)\n",
      "\n"
     ]
    }
   ],
   "source": [
    "for undo in manager.undo_redo_controller.undo_stack:\n",
    "    print(undo)"
   ]
  },
  {
   "cell_type": "code",
   "execution_count": 8,
   "id": "43c24d05",
   "metadata": {},
   "outputs": [
    {
     "name": "stdout",
     "output_type": "stream",
     "text": [
      "  loading args: (array([[ 40,  32,  24, ..., 216, 200, 200],\n",
      "       [ 56,  40,  24, ..., 232, 216, 216],\n",
      "       [ 64,  48,  24, ..., 240, 232, 232],\n",
      "       ...,\n",
      "       [ 72,  80,  80, ...,  48,  48,  48],\n",
      "       [ 80,  80,  80, ...,  48,  48,  48],\n",
      "       [ 96,  88,  80, ...,  48,  48,  48]], dtype=uint8),)\n",
      "loading kwargs: {'sigma': 4.0, 'viewer': Viewer(axes=Axes(visible=False, labels=True, colored=True, dashed=False, arrows=True), camera=Camera(center=(0.0, 126.5, 127.5), zoom=2.855610236220472, angles=(0.0, 0.0, 90.0), perspective=0.0, interactive=True), cursor=Cursor(position=(1.0, 1.0), scaled=True, size=1, style=<CursorStyle.STANDARD: 'standard'>), dims=Dims(ndim=2, ndisplay=2, last_used=0, range=((0.0, 254.0, 1.0), (0.0, 256.0, 1.0)), current_step=(127, 128), order=(0, 1), axis_labels=('0', '1')), grid=GridCanvas(stride=-1, shape=(-1, -1), enabled=False), layers=[<Image layer 'blobs' at 0x12e45d5e4d0>, <Image layer 'Result of Gaussian (scikit-image, nsbatwm)' at 0x12e75efdfc0>], scale_bar=ScaleBar(visible=False, colored=False, ticks=True, position=<Position.BOTTOM_RIGHT: 'bottom_right'>, font_size=10.0, unit=None), text_overlay=TextOverlay(visible=False, color=array([0.5, 0.5, 0.5, 1. ]), font_size=10.0, position=<TextOverlayPosition.TOP_LEFT: 'top_left'>, text=''), overlays=Overlays(interaction_box=InteractionBox(points=None, show=False, show_handle=False, show_vertices=False, selection_box_drag=None, selection_box_final=None, transform_start=<napari.utils.transforms.transforms.Affine object at 0x0000012E65F93D30>, transform_drag=<napari.utils.transforms.transforms.Affine object at 0x0000012E65F93D90>, transform_final=<napari.utils.transforms.transforms.Affine object at 0x0000012E65F93DF0>, transform=<napari.utils.transforms.transforms.Affine object at 0x0000012E65F93E50>, allow_new_selection=True, selected_vertex=None)), help='', status='Ready', tooltip=Tooltip(visible=False, text=''), theme='dark', title='napari', mouse_move_callbacks=[<function InteractionBoxMouseBindings.initialize_mouse_events.<locals>.mouse_move at 0x0000012E6D42B9A0>], mouse_drag_callbacks=[<function InteractionBoxMouseBindings.initialize_mouse_events.<locals>.mouse_drag at 0x0000012E6D429480>], mouse_double_click_callbacks=[], mouse_wheel_callbacks=[<function dims_scroll at 0x0000012E64267370>], _persisted_mouse_event={}, _mouse_drag_gen={}, _mouse_wheel_gen={}, keymap={'Shift': <function InteractionBoxMouseBindings.initialize_key_events.<locals>.hold_to_lock_aspect_ratio at 0x0000012E6D42A3B0>, 'Control-Shift-R': <function InteractionBoxMouseBindings._reset_active_layer_affine at 0x0000012E6D4728C0>, 'Control-Shift-A': <function InteractionBoxMouseBindings._transform_active_layer at 0x0000012E6D473130>})}\n"
     ]
    },
    {
     "ename": "TypeError",
     "evalue": "Update_workflow_step.__init__() got multiple values for argument 'viewer'",
     "output_type": "error",
     "traceback": [
      "\u001b[1;31m---------------------------------------------------------------------------\u001b[0m",
      "\u001b[1;31mTypeError\u001b[0m                                 Traceback (most recent call last)",
      "File \u001b[1;32m~\\anaconda3\\envs\\np_workflows_v1\\lib\\site-packages\\magicgui\\widgets\\_bases\\value_widget.py:57\u001b[0m, in \u001b[0;36mValueWidget._on_value_change\u001b[1;34m(self, value)\u001b[0m\n\u001b[0;32m     55\u001b[0m \u001b[38;5;28;01mif\u001b[39;00m value \u001b[38;5;129;01mis\u001b[39;00m \u001b[38;5;28mself\u001b[39m\u001b[38;5;241m.\u001b[39mnull_value \u001b[38;5;129;01mand\u001b[39;00m \u001b[38;5;129;01mnot\u001b[39;00m \u001b[38;5;28mself\u001b[39m\u001b[38;5;241m.\u001b[39m_nullable:\n\u001b[0;32m     56\u001b[0m     \u001b[38;5;28;01mreturn\u001b[39;00m\n\u001b[1;32m---> 57\u001b[0m \u001b[38;5;28;43mself\u001b[39;49m\u001b[38;5;241;43m.\u001b[39;49m\u001b[43mchanged\u001b[49m\u001b[38;5;241;43m.\u001b[39;49m\u001b[43memit\u001b[49m\u001b[43m(\u001b[49m\u001b[43mvalue\u001b[49m\u001b[43m)\u001b[49m\n",
      "File \u001b[1;32m~\\anaconda3\\envs\\np_workflows_v1\\lib\\site-packages\\psygnal\\_signal.py:670\u001b[0m, in \u001b[0;36mpsygnal._signal.SignalInstance.emit\u001b[1;34m()\u001b[0m\n",
      "File \u001b[1;32m~\\anaconda3\\envs\\np_workflows_v1\\lib\\site-packages\\magicgui\\events.py:85\u001b[0m, in \u001b[0;36mSignalInstance._run_emit_loop\u001b[1;34m(self, args)\u001b[0m\n\u001b[0;32m     83\u001b[0m \u001b[38;5;66;03m# TODO: add better exception handling\u001b[39;00m\n\u001b[0;32m     84\u001b[0m \u001b[38;5;28;01mif\u001b[39;00m \u001b[38;5;28mself\u001b[39m\u001b[38;5;241m.\u001b[39m_new_callback\u001b[38;5;241m.\u001b[39mget(slot):\n\u001b[1;32m---> 85\u001b[0m     \u001b[43mcb\u001b[49m\u001b[43m(\u001b[49m\u001b[38;5;241;43m*\u001b[39;49m\u001b[43margs\u001b[49m\u001b[43m[\u001b[49m\u001b[43m:\u001b[49m\u001b[43mmax_args\u001b[49m\u001b[43m]\u001b[49m\u001b[43m)\u001b[49m\n\u001b[0;32m     86\u001b[0m \u001b[38;5;28;01melse\u001b[39;00m:\n\u001b[0;32m     87\u001b[0m     cb(Event(args[\u001b[38;5;241m0\u001b[39m], \u001b[38;5;28mself\u001b[39m\u001b[38;5;241m.\u001b[39mname, \u001b[38;5;28mself\u001b[39m\u001b[38;5;241m.\u001b[39minstance))\n",
      "File \u001b[1;32m~\\anaconda3\\envs\\np_workflows_v1\\lib\\site-packages\\magicgui\\widgets\\_bases\\container_widget.py:165\u001b[0m, in \u001b[0;36mContainerWidget.insert.<locals>.<lambda>\u001b[1;34m()\u001b[0m\n\u001b[0;32m    163\u001b[0m \u001b[38;5;124;03m\"\"\"Insert widget at ``key``.\"\"\"\u001b[39;00m\n\u001b[0;32m    164\u001b[0m \u001b[38;5;28;01mif\u001b[39;00m \u001b[38;5;28misinstance\u001b[39m(widget, (ValueWidget, ContainerWidget)):\n\u001b[1;32m--> 165\u001b[0m     widget\u001b[38;5;241m.\u001b[39mchanged\u001b[38;5;241m.\u001b[39mconnect(\u001b[38;5;28;01mlambda\u001b[39;00m: \u001b[38;5;28;43mself\u001b[39;49m\u001b[38;5;241;43m.\u001b[39;49m\u001b[43mchanged\u001b[49m\u001b[38;5;241;43m.\u001b[39;49m\u001b[43memit\u001b[49m\u001b[43m(\u001b[49m\u001b[38;5;28;43mself\u001b[39;49m\u001b[43m)\u001b[49m)\n\u001b[0;32m    166\u001b[0m _widget \u001b[38;5;241m=\u001b[39m widget\n\u001b[0;32m    168\u001b[0m \u001b[38;5;28;01mif\u001b[39;00m \u001b[38;5;28mself\u001b[39m\u001b[38;5;241m.\u001b[39mlabels:\n",
      "File \u001b[1;32m~\\anaconda3\\envs\\np_workflows_v1\\lib\\site-packages\\psygnal\\_signal.py:670\u001b[0m, in \u001b[0;36mpsygnal._signal.SignalInstance.emit\u001b[1;34m()\u001b[0m\n",
      "File \u001b[1;32m~\\anaconda3\\envs\\np_workflows_v1\\lib\\site-packages\\magicgui\\events.py:85\u001b[0m, in \u001b[0;36mSignalInstance._run_emit_loop\u001b[1;34m(self, args)\u001b[0m\n\u001b[0;32m     83\u001b[0m \u001b[38;5;66;03m# TODO: add better exception handling\u001b[39;00m\n\u001b[0;32m     84\u001b[0m \u001b[38;5;28;01mif\u001b[39;00m \u001b[38;5;28mself\u001b[39m\u001b[38;5;241m.\u001b[39m_new_callback\u001b[38;5;241m.\u001b[39mget(slot):\n\u001b[1;32m---> 85\u001b[0m     \u001b[43mcb\u001b[49m\u001b[43m(\u001b[49m\u001b[38;5;241;43m*\u001b[39;49m\u001b[43margs\u001b[49m\u001b[43m[\u001b[49m\u001b[43m:\u001b[49m\u001b[43mmax_args\u001b[49m\u001b[43m]\u001b[49m\u001b[43m)\u001b[49m\n\u001b[0;32m     86\u001b[0m \u001b[38;5;28;01melse\u001b[39;00m:\n\u001b[0;32m     87\u001b[0m     cb(Event(args[\u001b[38;5;241m0\u001b[39m], \u001b[38;5;28mself\u001b[39m\u001b[38;5;241m.\u001b[39mname, \u001b[38;5;28mself\u001b[39m\u001b[38;5;241m.\u001b[39minstance))\n",
      "File \u001b[1;32m~\\anaconda3\\envs\\np_workflows_v1\\lib\\site-packages\\magicgui\\widgets\\_function_gui.py:221\u001b[0m, in \u001b[0;36mFunctionGui._on_change\u001b[1;34m(self)\u001b[0m\n\u001b[0;32m    219\u001b[0m     \u001b[38;5;28mself\u001b[39m\u001b[38;5;241m.\u001b[39m_dump()\n\u001b[0;32m    220\u001b[0m \u001b[38;5;28;01mif\u001b[39;00m \u001b[38;5;28mself\u001b[39m\u001b[38;5;241m.\u001b[39m_auto_call:\n\u001b[1;32m--> 221\u001b[0m     \u001b[38;5;28;43mself\u001b[39;49m\u001b[43m(\u001b[49m\u001b[43m)\u001b[49m\n",
      "File \u001b[1;32m~\\anaconda3\\envs\\np_workflows_v1\\lib\\site-packages\\magicgui\\widgets\\_function_gui.py:303\u001b[0m, in \u001b[0;36mFunctionGui.__call__\u001b[1;34m(self, update_widget, *args, **kwargs)\u001b[0m\n\u001b[0;32m    301\u001b[0m \u001b[38;5;28mself\u001b[39m\u001b[38;5;241m.\u001b[39m_tqdm_depth \u001b[38;5;241m=\u001b[39m \u001b[38;5;241m0\u001b[39m  \u001b[38;5;66;03m# reset the tqdm stack count\u001b[39;00m\n\u001b[0;32m    302\u001b[0m \u001b[38;5;28;01mwith\u001b[39;00m _function_name_pointing_to_widget(\u001b[38;5;28mself\u001b[39m):\n\u001b[1;32m--> 303\u001b[0m     value \u001b[38;5;241m=\u001b[39m \u001b[38;5;28mself\u001b[39m\u001b[38;5;241m.\u001b[39m_function(\u001b[38;5;241m*\u001b[39mbound\u001b[38;5;241m.\u001b[39margs, \u001b[38;5;241m*\u001b[39m\u001b[38;5;241m*\u001b[39mbound\u001b[38;5;241m.\u001b[39mkwargs)\n\u001b[0;32m    305\u001b[0m \u001b[38;5;28mself\u001b[39m\u001b[38;5;241m.\u001b[39m_call_count \u001b[38;5;241m+\u001b[39m\u001b[38;5;241m=\u001b[39m \u001b[38;5;241m1\u001b[39m\n\u001b[0;32m    306\u001b[0m \u001b[38;5;28;01mif\u001b[39;00m \u001b[38;5;28mself\u001b[39m\u001b[38;5;241m.\u001b[39m_result_widget \u001b[38;5;129;01mis\u001b[39;00m \u001b[38;5;129;01mnot\u001b[39;00m \u001b[38;5;28;01mNone\u001b[39;00m:\n",
      "File \u001b[1;32mc:\\users\\ryans\\onedrive\\documents\\bia pol stuff\\napari workflow repositories\\napari-assistant\\napari_assistant\\_workflow_io_utility.py:236\u001b[0m, in \u001b[0;36mmake_flexible_gui.<locals>.worker_func\u001b[1;34m(*iargs, **ikwargs)\u001b[0m\n\u001b[0;32m    234\u001b[0m     \u001b[38;5;28mprint\u001b[39m(\u001b[38;5;124mf\u001b[39m\u001b[38;5;124m'\u001b[39m\u001b[38;5;124m  loading args: \u001b[39m\u001b[38;5;132;01m{\u001b[39;00miargs\u001b[38;5;132;01m}\u001b[39;00m\u001b[38;5;124m'\u001b[39m)\n\u001b[0;32m    235\u001b[0m     \u001b[38;5;28mprint\u001b[39m(\u001b[38;5;124mf\u001b[39m\u001b[38;5;124m'\u001b[39m\u001b[38;5;124mloading kwargs: \u001b[39m\u001b[38;5;132;01m{\u001b[39;00mikwargs\u001b[38;5;132;01m}\u001b[39;00m\u001b[38;5;124m'\u001b[39m)\n\u001b[1;32m--> 236\u001b[0m     workflow_manager\u001b[38;5;241m.\u001b[39mupdate(target_layer, func, \u001b[38;5;241m*\u001b[39miargs, \u001b[38;5;241m*\u001b[39m\u001b[38;5;241m*\u001b[39mikwargs) \n\u001b[0;32m    238\u001b[0m     \u001b[38;5;28;01mreturn\u001b[39;00m \u001b[38;5;28;01mNone\u001b[39;00m\n\u001b[0;32m    239\u001b[0m \u001b[38;5;28;01melse\u001b[39;00m:\n",
      "File \u001b[1;32mc:\\users\\ryans\\onedrive\\documents\\bia pol stuff\\napari workflow repositories\\napari-workflows\\src\\napari_workflows\\_workflow.py:265\u001b[0m, in \u001b[0;36mWorkflowManager.update\u001b[1;34m(self, target_layer, function, *args, **kwargs)\u001b[0m\n\u001b[0;32m    251\u001b[0m \u001b[38;5;124;03m\"\"\"\u001b[39;00m\n\u001b[0;32m    252\u001b[0m \u001b[38;5;124;03mUpdate the task representing a given layer in the stored workflow by providing\u001b[39;00m\n\u001b[0;32m    253\u001b[0m \u001b[38;5;124;03mthe function and parameters that generated the data in the layer.\u001b[39;00m\n\u001b[1;32m   (...)\u001b[0m\n\u001b[0;32m    262\u001b[0m \u001b[38;5;124;03mkwargs: dict\u001b[39;00m\n\u001b[0;32m    263\u001b[0m \u001b[38;5;124;03m\"\"\"\u001b[39;00m\n\u001b[0;32m    264\u001b[0m \u001b[38;5;28;01mfrom\u001b[39;00m \u001b[38;5;21;01m.\u001b[39;00m\u001b[38;5;21;01m_workflowmanager_commands\u001b[39;00m \u001b[38;5;28;01mimport\u001b[39;00m Update_workflow_step\n\u001b[1;32m--> 265\u001b[0m \u001b[38;5;28mself\u001b[39m\u001b[38;5;241m.\u001b[39mundo_redo_controller\u001b[38;5;241m.\u001b[39mexecute(Update_workflow_step(\n\u001b[0;32m    266\u001b[0m     \u001b[38;5;28mself\u001b[39m\u001b[38;5;241m.\u001b[39mworkflow,\n\u001b[0;32m    267\u001b[0m     \u001b[38;5;28mself\u001b[39m\u001b[38;5;241m.\u001b[39mviewer,\n\u001b[0;32m    268\u001b[0m     target_layer,\n\u001b[0;32m    269\u001b[0m     function,\n\u001b[0;32m    270\u001b[0m     \u001b[38;5;241m*\u001b[39margs,\n\u001b[0;32m    271\u001b[0m     \u001b[38;5;241m*\u001b[39m\u001b[38;5;241m*\u001b[39mkwargs,\n\u001b[0;32m    272\u001b[0m     )\n\u001b[0;32m    273\u001b[0m )\n\u001b[0;32m    275\u001b[0m \u001b[38;5;66;03m# set result valid\u001b[39;00m\n\u001b[0;32m    276\u001b[0m target_layer\u001b[38;5;241m.\u001b[39mmetadata[METADATA_WORKFLOW_VALID_KEY] \u001b[38;5;241m=\u001b[39m \u001b[38;5;28;01mTrue\u001b[39;00m\n",
      "\u001b[1;31mTypeError\u001b[0m: Update_workflow_step.__init__() got multiple values for argument 'viewer'"
     ]
    },
    {
     "name": "stdout",
     "output_type": "stream",
     "text": [
      "  loading args: (array([[ 40,  32,  24, ..., 216, 200, 200],\n",
      "       [ 56,  40,  24, ..., 232, 216, 216],\n",
      "       [ 64,  48,  24, ..., 240, 232, 232],\n",
      "       ...,\n",
      "       [ 72,  80,  80, ...,  48,  48,  48],\n",
      "       [ 80,  80,  80, ...,  48,  48,  48],\n",
      "       [ 96,  88,  80, ...,  48,  48,  48]], dtype=uint8),)\n",
      "loading kwargs: {'sigma': 4.0, 'viewer': Viewer(axes=Axes(visible=False, labels=True, colored=True, dashed=False, arrows=True), camera=Camera(center=(0.0, 126.5, 127.5), zoom=2.855610236220472, angles=(0.0, 0.0, 90.0), perspective=0.0, interactive=True), cursor=Cursor(position=(1.0, 1.0), scaled=True, size=1, style=<CursorStyle.STANDARD: 'standard'>), dims=Dims(ndim=2, ndisplay=2, last_used=0, range=((0.0, 254.0, 1.0), (0.0, 256.0, 1.0)), current_step=(127, 128), order=(0, 1), axis_labels=('0', '1')), grid=GridCanvas(stride=-1, shape=(-1, -1), enabled=False), layers=[<Image layer 'blobs' at 0x12e45d5e4d0>, <Image layer 'Result of Gaussian (scikit-image, nsbatwm)' at 0x12e75efdfc0>], scale_bar=ScaleBar(visible=False, colored=False, ticks=True, position=<Position.BOTTOM_RIGHT: 'bottom_right'>, font_size=10.0, unit=None), text_overlay=TextOverlay(visible=False, color=array([0.5, 0.5, 0.5, 1. ]), font_size=10.0, position=<TextOverlayPosition.TOP_LEFT: 'top_left'>, text=''), overlays=Overlays(interaction_box=InteractionBox(points=None, show=False, show_handle=False, show_vertices=False, selection_box_drag=None, selection_box_final=None, transform_start=<napari.utils.transforms.transforms.Affine object at 0x0000012E65F93D30>, transform_drag=<napari.utils.transforms.transforms.Affine object at 0x0000012E65F93D90>, transform_final=<napari.utils.transforms.transforms.Affine object at 0x0000012E65F93DF0>, transform=<napari.utils.transforms.transforms.Affine object at 0x0000012E65F93E50>, allow_new_selection=True, selected_vertex=None)), help='', status='Ready', tooltip=Tooltip(visible=False, text=''), theme='dark', title='napari', mouse_move_callbacks=[<function InteractionBoxMouseBindings.initialize_mouse_events.<locals>.mouse_move at 0x0000012E6D42B9A0>], mouse_drag_callbacks=[<function InteractionBoxMouseBindings.initialize_mouse_events.<locals>.mouse_drag at 0x0000012E6D429480>], mouse_double_click_callbacks=[], mouse_wheel_callbacks=[<function dims_scroll at 0x0000012E64267370>], _persisted_mouse_event={}, _mouse_drag_gen={}, _mouse_wheel_gen={}, keymap={'Shift': <function InteractionBoxMouseBindings.initialize_key_events.<locals>.hold_to_lock_aspect_ratio at 0x0000012E6D42A3B0>, 'Control-Shift-R': <function InteractionBoxMouseBindings._reset_active_layer_affine at 0x0000012E6D4728C0>, 'Control-Shift-A': <function InteractionBoxMouseBindings._transform_active_layer at 0x0000012E6D473130>})}\n"
     ]
    },
    {
     "ename": "TypeError",
     "evalue": "Update_workflow_step.__init__() got multiple values for argument 'viewer'",
     "output_type": "error",
     "traceback": [
      "\u001b[1;31m---------------------------------------------------------------------------\u001b[0m",
      "\u001b[1;31mTypeError\u001b[0m                                 Traceback (most recent call last)",
      "Input \u001b[1;32mIn [8]\u001b[0m, in \u001b[0;36m<cell line: 1>\u001b[1;34m()\u001b[0m\n\u001b[1;32m----> 1\u001b[0m \u001b[43massistant\u001b[49m\u001b[38;5;241;43m.\u001b[39;49m\u001b[43mundo_action\u001b[49m\u001b[43m(\u001b[49m\u001b[43m)\u001b[49m\n",
      "File \u001b[1;32mc:\\users\\ryans\\onedrive\\documents\\bia pol stuff\\napari workflow repositories\\napari-assistant\\napari_assistant\\_gui\\_Assistant.py:283\u001b[0m, in \u001b[0;36mAssistant.undo_action\u001b[1;34m(self)\u001b[0m\n\u001b[0;32m    281\u001b[0m \u001b[38;5;28;01mdef\u001b[39;00m \u001b[38;5;21mundo_action\u001b[39m(\u001b[38;5;28mself\u001b[39m):\n\u001b[0;32m    282\u001b[0m     \u001b[38;5;28;01mfrom\u001b[39;00m \u001b[38;5;21;01m.\u001b[39;00m\u001b[38;5;21;01m.\u001b[39;00m\u001b[38;5;21;01m_undo_redo\u001b[39;00m \u001b[38;5;28;01mimport\u001b[39;00m undo\n\u001b[1;32m--> 283\u001b[0m     \u001b[43mundo\u001b[49m\u001b[43m(\u001b[49m\u001b[43mviewer\u001b[49m\u001b[38;5;241;43m=\u001b[39;49m\u001b[38;5;28;43mself\u001b[39;49m\u001b[38;5;241;43m.\u001b[39;49m\u001b[43m_viewer\u001b[49m\u001b[43m)\u001b[49m\n",
      "File \u001b[1;32mc:\\users\\ryans\\onedrive\\documents\\bia pol stuff\\napari workflow repositories\\napari-assistant\\napari_assistant\\_undo_redo.py:54\u001b[0m, in \u001b[0;36mundo\u001b[1;34m(viewer)\u001b[0m\n\u001b[0;32m     52\u001b[0m delete_workflow_widgets_layers(viewer)\n\u001b[0;32m     53\u001b[0m workflow\u001b[38;5;241m.\u001b[39mclear()\n\u001b[1;32m---> 54\u001b[0m \u001b[43minitialise_root_functions\u001b[49m\u001b[43m(\u001b[49m\u001b[43mworkflow\u001b[49m\u001b[38;5;241;43m=\u001b[39;49m\u001b[43mold_workflow\u001b[49m\u001b[43m,\u001b[49m\n\u001b[0;32m     55\u001b[0m \u001b[43m                          \u001b[49m\u001b[43mviewer\u001b[49m\u001b[38;5;241;43m=\u001b[39;49m\u001b[43mviewer\u001b[49m\u001b[43m)\u001b[49m\n\u001b[0;32m     56\u001b[0m load_remaining_workflow(workflow\u001b[38;5;241m=\u001b[39mold_workflow,\n\u001b[0;32m     57\u001b[0m                         viewer\u001b[38;5;241m=\u001b[39mviewer)\n\u001b[0;32m     58\u001b[0m controller\u001b[38;5;241m.\u001b[39mfreeze_stacks \u001b[38;5;241m=\u001b[39m \u001b[38;5;28;01mFalse\u001b[39;00m\n",
      "File \u001b[1;32mc:\\users\\ryans\\onedrive\\documents\\bia pol stuff\\napari workflow repositories\\napari-assistant\\napari_assistant\\_workflow_io_utility.py:79\u001b[0m, in \u001b[0;36minitialise_root_functions\u001b[1;34m(workflow, viewer)\u001b[0m\n\u001b[0;32m     76\u001b[0m     viewer\u001b[38;5;241m.\u001b[39mwindow\u001b[38;5;241m.\u001b[39madd_dock_widget(widget, name \u001b[38;5;241m=\u001b[39m wf_step_name[\u001b[38;5;241m10\u001b[39m:] \u001b[38;5;241m+\u001b[39m \u001b[38;5;124m'\u001b[39m\u001b[38;5;124m<b> - SELECT INPUT</b>\u001b[39m\u001b[38;5;124m'\u001b[39m)\n\u001b[0;32m     78\u001b[0m \u001b[38;5;66;03m# calling the widget with the correct input images\u001b[39;00m\n\u001b[1;32m---> 79\u001b[0m \u001b[43mwidget\u001b[49m\u001b[43m(\u001b[49m\u001b[43m)\u001b[49m\n",
      "File \u001b[1;32m~\\anaconda3\\envs\\np_workflows_v1\\lib\\site-packages\\magicgui\\widgets\\_function_gui.py:303\u001b[0m, in \u001b[0;36mFunctionGui.__call__\u001b[1;34m(self, update_widget, *args, **kwargs)\u001b[0m\n\u001b[0;32m    301\u001b[0m \u001b[38;5;28mself\u001b[39m\u001b[38;5;241m.\u001b[39m_tqdm_depth \u001b[38;5;241m=\u001b[39m \u001b[38;5;241m0\u001b[39m  \u001b[38;5;66;03m# reset the tqdm stack count\u001b[39;00m\n\u001b[0;32m    302\u001b[0m \u001b[38;5;28;01mwith\u001b[39;00m _function_name_pointing_to_widget(\u001b[38;5;28mself\u001b[39m):\n\u001b[1;32m--> 303\u001b[0m     value \u001b[38;5;241m=\u001b[39m \u001b[38;5;28mself\u001b[39m\u001b[38;5;241m.\u001b[39m_function(\u001b[38;5;241m*\u001b[39mbound\u001b[38;5;241m.\u001b[39margs, \u001b[38;5;241m*\u001b[39m\u001b[38;5;241m*\u001b[39mbound\u001b[38;5;241m.\u001b[39mkwargs)\n\u001b[0;32m    305\u001b[0m \u001b[38;5;28mself\u001b[39m\u001b[38;5;241m.\u001b[39m_call_count \u001b[38;5;241m+\u001b[39m\u001b[38;5;241m=\u001b[39m \u001b[38;5;241m1\u001b[39m\n\u001b[0;32m    306\u001b[0m \u001b[38;5;28;01mif\u001b[39;00m \u001b[38;5;28mself\u001b[39m\u001b[38;5;241m.\u001b[39m_result_widget \u001b[38;5;129;01mis\u001b[39;00m \u001b[38;5;129;01mnot\u001b[39;00m \u001b[38;5;28;01mNone\u001b[39;00m:\n",
      "File \u001b[1;32mc:\\users\\ryans\\onedrive\\documents\\bia pol stuff\\napari workflow repositories\\napari-assistant\\napari_assistant\\_workflow_io_utility.py:236\u001b[0m, in \u001b[0;36mmake_flexible_gui.<locals>.worker_func\u001b[1;34m(*iargs, **ikwargs)\u001b[0m\n\u001b[0;32m    234\u001b[0m     \u001b[38;5;28mprint\u001b[39m(\u001b[38;5;124mf\u001b[39m\u001b[38;5;124m'\u001b[39m\u001b[38;5;124m  loading args: \u001b[39m\u001b[38;5;132;01m{\u001b[39;00miargs\u001b[38;5;132;01m}\u001b[39;00m\u001b[38;5;124m'\u001b[39m)\n\u001b[0;32m    235\u001b[0m     \u001b[38;5;28mprint\u001b[39m(\u001b[38;5;124mf\u001b[39m\u001b[38;5;124m'\u001b[39m\u001b[38;5;124mloading kwargs: \u001b[39m\u001b[38;5;132;01m{\u001b[39;00mikwargs\u001b[38;5;132;01m}\u001b[39;00m\u001b[38;5;124m'\u001b[39m)\n\u001b[1;32m--> 236\u001b[0m     workflow_manager\u001b[38;5;241m.\u001b[39mupdate(target_layer, func, \u001b[38;5;241m*\u001b[39miargs, \u001b[38;5;241m*\u001b[39m\u001b[38;5;241m*\u001b[39mikwargs) \n\u001b[0;32m    238\u001b[0m     \u001b[38;5;28;01mreturn\u001b[39;00m \u001b[38;5;28;01mNone\u001b[39;00m\n\u001b[0;32m    239\u001b[0m \u001b[38;5;28;01melse\u001b[39;00m:\n",
      "File \u001b[1;32mc:\\users\\ryans\\onedrive\\documents\\bia pol stuff\\napari workflow repositories\\napari-workflows\\src\\napari_workflows\\_workflow.py:265\u001b[0m, in \u001b[0;36mWorkflowManager.update\u001b[1;34m(self, target_layer, function, *args, **kwargs)\u001b[0m\n\u001b[0;32m    251\u001b[0m \u001b[38;5;124;03m\"\"\"\u001b[39;00m\n\u001b[0;32m    252\u001b[0m \u001b[38;5;124;03mUpdate the task representing a given layer in the stored workflow by providing\u001b[39;00m\n\u001b[0;32m    253\u001b[0m \u001b[38;5;124;03mthe function and parameters that generated the data in the layer.\u001b[39;00m\n\u001b[1;32m   (...)\u001b[0m\n\u001b[0;32m    262\u001b[0m \u001b[38;5;124;03mkwargs: dict\u001b[39;00m\n\u001b[0;32m    263\u001b[0m \u001b[38;5;124;03m\"\"\"\u001b[39;00m\n\u001b[0;32m    264\u001b[0m \u001b[38;5;28;01mfrom\u001b[39;00m \u001b[38;5;21;01m.\u001b[39;00m\u001b[38;5;21;01m_workflowmanager_commands\u001b[39;00m \u001b[38;5;28;01mimport\u001b[39;00m Update_workflow_step\n\u001b[1;32m--> 265\u001b[0m \u001b[38;5;28mself\u001b[39m\u001b[38;5;241m.\u001b[39mundo_redo_controller\u001b[38;5;241m.\u001b[39mexecute(Update_workflow_step(\n\u001b[0;32m    266\u001b[0m     \u001b[38;5;28mself\u001b[39m\u001b[38;5;241m.\u001b[39mworkflow,\n\u001b[0;32m    267\u001b[0m     \u001b[38;5;28mself\u001b[39m\u001b[38;5;241m.\u001b[39mviewer,\n\u001b[0;32m    268\u001b[0m     target_layer,\n\u001b[0;32m    269\u001b[0m     function,\n\u001b[0;32m    270\u001b[0m     \u001b[38;5;241m*\u001b[39margs,\n\u001b[0;32m    271\u001b[0m     \u001b[38;5;241m*\u001b[39m\u001b[38;5;241m*\u001b[39mkwargs,\n\u001b[0;32m    272\u001b[0m     )\n\u001b[0;32m    273\u001b[0m )\n\u001b[0;32m    275\u001b[0m \u001b[38;5;66;03m# set result valid\u001b[39;00m\n\u001b[0;32m    276\u001b[0m target_layer\u001b[38;5;241m.\u001b[39mmetadata[METADATA_WORKFLOW_VALID_KEY] \u001b[38;5;241m=\u001b[39m \u001b[38;5;28;01mTrue\u001b[39;00m\n",
      "\u001b[1;31mTypeError\u001b[0m: Update_workflow_step.__init__() got multiple values for argument 'viewer'"
     ]
    }
   ],
   "source": [
    "assistant.undo_action()\n"
   ]
  },
  {
   "cell_type": "code",
   "execution_count": null,
   "id": "61ceb3ed",
   "metadata": {},
   "outputs": [],
   "source": [
    "viewer.layers.selection.select_only(viewer.layers[0])\n",
    "assistant.search_field.setText('nsb')\n",
    "widget = assistant._activate(CATEGORIES.get(\"Remove noise\"))"
   ]
  },
  {
   "cell_type": "code",
   "execution_count": null,
   "id": "a0e8aff4",
   "metadata": {},
   "outputs": [],
   "source": []
  }
 ],
 "metadata": {
  "kernelspec": {
   "display_name": "workflows_kernel",
   "language": "python",
   "name": "workflows_kernel"
  },
  "language_info": {
   "codemirror_mode": {
    "name": "ipython",
    "version": 3
   },
   "file_extension": ".py",
   "mimetype": "text/x-python",
   "name": "python",
   "nbconvert_exporter": "python",
   "pygments_lexer": "ipython3",
   "version": "3.10.2"
  }
 },
 "nbformat": 4,
 "nbformat_minor": 5
}
