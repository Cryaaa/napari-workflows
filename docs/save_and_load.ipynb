{
 "cells": [
  {
   "cell_type": "markdown",
   "id": "79d3694d-96fe-49d0-b7b9-0e287577bdbe",
   "metadata": {},
   "source": [
    "# Saving and loading workflows"
   ]
  },
  {
   "cell_type": "code",
   "execution_count": 1,
   "id": "f4c98c95",
   "metadata": {},
   "outputs": [],
   "source": [
    "from napari_workflows import Workflow\n",
    "from napari_workflows._io_yaml_v1 import load_workflow, save_workflow\n",
    "\n",
    "from skimage.io import imread, imshow\n",
    "from skimage.filters import gaussian\n",
    "import numpy as np"
   ]
  },
  {
   "cell_type": "markdown",
   "id": "25d3c480-8393-4aa1-91dc-acedce15a2ec",
   "metadata": {},
   "source": [
    "For testing purposes, we setup a simple workflow and set an input image."
   ]
  },
  {
   "cell_type": "code",
   "execution_count": 2,
   "id": "e2d741d1-cb65-48f8-83e0-f3c91541a9e5",
   "metadata": {},
   "outputs": [
    {
     "name": "stdout",
     "output_type": "stream",
     "text": [
      "Workflow:\n",
      "denoised <- (<function gaussian at 0x7fbeee604c10>, 'input', 2, None, 'nearest', 0, None, False, 4.0)\n",
      "input <- [[0.47154877 0.52238515 0.09982908]\n",
      " [0.13225936 0.99151751 0.19470893]\n",
      " [0.797373   0.63175369 0.62158821]]\n",
      "\n"
     ]
    }
   ],
   "source": [
    "w = Workflow()\n",
    "\n",
    "# define denoising\n",
    "w.set(\"denoised\", gaussian, \"input\", sigma=2)\n",
    "\n",
    "w.set(\"input\", np.random.random((3, 3)))\n",
    "\n",
    "print(str(w))"
   ]
  },
  {
   "cell_type": "markdown",
   "id": "1894cedd-a017-4e3e-8454-a29d07f112d3",
   "metadata": {},
   "source": [
    "Next, we save the workflow to disk."
   ]
  },
  {
   "cell_type": "code",
   "execution_count": 3,
   "id": "dbfed884",
   "metadata": {},
   "outputs": [],
   "source": [
    "filename = \"test.yaml\"\n",
    "\n",
    "save_workflow(filename, w)"
   ]
  },
  {
   "cell_type": "markdown",
   "id": "2eb1c428-c67d-4265-a45a-31f4f9cff128",
   "metadata": {},
   "source": [
    "After loading the workflow, we notice that it does not contain any image data. It only consists of processing steps."
   ]
  },
  {
   "cell_type": "code",
   "execution_count": 4,
   "id": "24006ceb",
   "metadata": {},
   "outputs": [
    {
     "name": "stdout",
     "output_type": "stream",
     "text": [
      "Workflow:\n",
      "denoised <- (<function gaussian at 0x7fbeee604c10>, 'input', 2, None, 'nearest', 0, None, False, 4.0)\n",
      "\n"
     ]
    }
   ],
   "source": [
    "new_w = load_workflow(filename)\n",
    "print(new_w)"
   ]
  },
  {
   "cell_type": "markdown",
   "id": "b81f50ba-be22-471c-9ad7-bfeb2e794db9",
   "metadata": {},
   "source": [
    "Hence, we need to set an input image again. This image can have a different shape, but it is recommended that the input image has the same dimensionality as in the workflow before."
   ]
  },
  {
   "cell_type": "code",
   "execution_count": 5,
   "id": "23a0ff91-c514-4ae8-ad59-d30a3acb357b",
   "metadata": {},
   "outputs": [
    {
     "name": "stdout",
     "output_type": "stream",
     "text": [
      "Workflow:\n",
      "denoised <- (<function gaussian at 0x7fbeee604c10>, 'input', 2, None, 'nearest', 0, None, False, 4.0)\n",
      "input <- [[0.55271555 0.1865473  0.32010651 0.66216249 0.12470335]\n",
      " [0.71399758 0.1789046  0.75515832 0.64266356 0.42995184]\n",
      " [0.45302134 0.60495946 0.35803792 0.47418399 0.76247791]\n",
      " [0.98145038 0.02422049 0.31215555 0.29119621 0.23933155]\n",
      " [0.78526891 0.59105168 0.10690843 0.34604959 0.96627981]]\n",
      "\n"
     ]
    }
   ],
   "source": [
    "new_w.set(\"input\", np.random.random((5,5)))\n",
    "print(new_w)"
   ]
  },
  {
   "cell_type": "markdown",
   "id": "68ea6d9b-48b9-4591-8cf0-0744015b841e",
   "metadata": {},
   "source": [
    "The workflow is now properly configured and we can retrieve a result image."
   ]
  },
  {
   "cell_type": "code",
   "execution_count": 6,
   "id": "7a5400e4",
   "metadata": {},
   "outputs": [
    {
     "name": "stderr",
     "output_type": "stream",
     "text": [
      "/Users/haase/opt/anaconda3/envs/bio_39/lib/python3.9/site-packages/dask/core.py:119: FutureWarning: Providing the `multichannel` argument positionally to gaussian is deprecated. Use the `channel_axis` kwarg instead.\n",
      "  return func(*(_execute_task(a, cache) for a in args))\n"
     ]
    },
    {
     "data": {
      "text/plain": [
       "array([[0.50340422, 0.4626823 , 0.42836097, 0.39867158, 0.36915657],\n",
       "       [0.53325458, 0.48964026, 0.45735994, 0.43793341, 0.42566571],\n",
       "       [0.56552062, 0.51600805, 0.48427072, 0.47634504, 0.48486018],\n",
       "       [0.59559089, 0.53953098, 0.50831082, 0.51286339, 0.54381525],\n",
       "       [0.6193631 , 0.55932612, 0.53057259, 0.54824063, 0.60091298]])"
      ]
     },
     "execution_count": 6,
     "metadata": {},
     "output_type": "execute_result"
    }
   ],
   "source": [
    "new_w.get(\"denoised\")"
   ]
  },
  {
   "cell_type": "code",
   "execution_count": null,
   "id": "4061e035-ef27-4537-ac22-04dd5e892693",
   "metadata": {},
   "outputs": [],
   "source": []
  }
 ],
 "metadata": {
  "kernelspec": {
   "display_name": "Python 3 (ipykernel)",
   "language": "python",
   "name": "python3"
  },
  "language_info": {
   "codemirror_mode": {
    "name": "ipython",
    "version": 3
   },
   "file_extension": ".py",
   "mimetype": "text/x-python",
   "name": "python",
   "nbconvert_exporter": "python",
   "pygments_lexer": "ipython3",
   "version": "3.9.0"
  }
 },
 "nbformat": 4,
 "nbformat_minor": 5
}
