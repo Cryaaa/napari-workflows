{
 "cells": [
  {
   "cell_type": "code",
   "execution_count": 14,
   "id": "ab71c774",
   "metadata": {},
   "outputs": [
    {
     "data": {
      "text/plain": [
       "<Signature (image: napari.types.ImageData, sigma: float = 1, viewer: napari.viewer.Viewer = None) -> napari.types.ImageData>"
      ]
     },
     "execution_count": 14,
     "metadata": {},
     "output_type": "execute_result"
    }
   ],
   "source": [
    "import yaml\n",
    "import inspect\n",
    "import napari_workflows as nw\n",
    "from napari.types import ImageData\n",
    "from napari_segment_blobs_and_things_with_membranes import gaussian_blur\n",
    "from skimage.io import imread\n",
    "\n",
    "\n",
    "w = nw.Workflow()\n",
    "w.set('denoised',gaussian_blur,'input', sigma = 5)\n",
    "w.set('input',imread(\"C:/Users/ryans/Desktop/blobs.tif\"))\n",
    "\n",
    "function = w._tasks['denoised'][0]    \n",
    "args = [None] + list(w._tasks['denoised'][2:])\n",
    "\n",
    "sig = inspect.signature(function)\n",
    "sig"
   ]
  },
  {
   "cell_type": "code",
   "execution_count": 9,
   "id": "2229cfe3",
   "metadata": {},
   "outputs": [
    {
     "data": {
      "text/plain": [
       "<BoundArguments (sigma=4)>"
      ]
     },
     "execution_count": 9,
     "metadata": {},
     "output_type": "execute_result"
    }
   ],
   "source": [
    "kwargs = {'sigma':4}\n",
    "bound = sig.bind_partial(**kwargs)\n",
    "bound"
   ]
  },
  {
   "cell_type": "code",
   "execution_count": 21,
   "id": "39a198b3",
   "metadata": {},
   "outputs": [
    {
     "data": {
      "text/plain": [
       "<Signature (image: napari.types.ImageData, *, sigma: float = 5, viewer: napari.viewer.Viewer = None) -> napari.types.ImageData>"
      ]
     },
     "execution_count": 21,
     "metadata": {},
     "output_type": "execute_result"
    }
   ],
   "source": [
    "from inspect import Signature, signature\n",
    "from functools import partial\n",
    "\n",
    "def signature_w_kwargs_from_function(function, arg_vals: list) -> Signature:\n",
    "    \n",
    "    # getting the keywords corresponding to the values\n",
    "    keyword_list = list(signature(function).parameters.keys())\n",
    "\n",
    "    # creating the kwargs dict\n",
    "    kw_dict = {}\n",
    "    for kw, val in zip(keyword_list, arg_vals):\n",
    "        kw_dict[kw] = val\n",
    "    kw_dict.pop('image') # we are making an assumption that the input will aways be this\n",
    "    \n",
    "    sig = signature(partial(function, **kw_dict))\n",
    "    \n",
    "    return sig\n",
    "func = w._tasks['denoised'][0]\n",
    "sig2 = signature_w_kwargs_from_function(func,w._tasks['denoised'][1:])\n",
    "sig2"
   ]
  },
  {
   "cell_type": "code",
   "execution_count": 23,
   "id": "95004eec",
   "metadata": {},
   "outputs": [
    {
     "data": {
      "image/png": "[encoded data removed]",
      "text/plain": [
       "<FunctionGui gaussian_blur(image: napari.types.ImageData = None, *, sigma: float = 5.0, viewer: napari.viewer.Viewer = None) -> napari.types.ImageData>"
      ]
     },
     "execution_count": 23,
     "metadata": {},
     "output_type": "execute_result"
    }
   ],
   "source": [
    "import magicgui\n",
    "\n",
    "func.__signature__ = sig2\n",
    "signature(func)\n",
    "magicgui.magicgui(func)"
   ]
  },
  {
   "cell_type": "code",
   "execution_count": null,
   "id": "7c941b35",
   "metadata": {},
   "outputs": [],
   "source": []
  }
 ],
 "metadata": {
  "kernelspec": {
   "display_name": "Python 3 (ipykernel)",
   "language": "python",
   "name": "python3"
  },
  "language_info": {
   "codemirror_mode": {
    "name": "ipython",
    "version": 3
   },
   "file_extension": ".py",
   "mimetype": "text/x-python",
   "name": "python",
   "nbconvert_exporter": "python",
   "pygments_lexer": "ipython3",
   "version": "3.10.2"
  }
 },
 "nbformat": 4,
 "nbformat_minor": 5
}
